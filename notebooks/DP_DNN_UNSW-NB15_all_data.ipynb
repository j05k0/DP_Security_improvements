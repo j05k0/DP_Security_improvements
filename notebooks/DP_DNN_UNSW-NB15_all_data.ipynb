{
 "cells": [
  {
   "cell_type": "markdown",
   "metadata": {
    "colab_type": "text",
    "id": "leycZPmH3zhD"
   },
   "source": [
    "# Initialization"
   ]
  },
  {
   "cell_type": "markdown",
   "metadata": {
    "colab_type": "text",
    "id": "wPKcCye_suwd"
   },
   "source": [
    "## Imports"
   ]
  },
  {
   "cell_type": "code",
   "execution_count": 0,
   "metadata": {
    "colab": {
     "base_uri": "https://localhost:8080/",
     "height": 34
    },
    "colab_type": "code",
    "executionInfo": {
     "elapsed": 2060,
     "status": "ok",
     "timestamp": 1555802329178,
     "user": {
      "displayName": "Jozef Valko",
      "photoUrl": "https://lh4.googleusercontent.com/-rJdYS_jqK20/AAAAAAAAAAI/AAAAAAAAJ_I/XVZBkrJc6LU/s64/photo.jpg",
      "userId": "10599775509760039875"
     },
     "user_tz": -120
    },
    "id": "CGJm5S-MvA1f",
    "outputId": "1b6fe4bd-7d7c-4f6b-e49f-631bb57ed14f"
   },
   "outputs": [
    {
     "name": "stderr",
     "output_type": "stream",
     "text": [
      "Using TensorFlow backend.\n"
     ]
    }
   ],
   "source": [
    "import keras\n",
    "from keras import backend as K\n",
    "from keras.models import Sequential\n",
    "from keras.layers import Activation\n",
    "from keras.layers import Dropout\n",
    "from keras.layers.core import Dense\n",
    "from keras.optimizers import Adam\n",
    "from keras.metrics import binary_crossentropy\n",
    "import pandas as pd\n",
    "import numpy as np\n",
    "import matplotlib.pyplot as plt\n",
    "import seaborn as sns\n",
    "from sklearn.preprocessing import MinMaxScaler\n",
    "from sklearn.preprocessing import StandardScaler\n",
    "from keras.wrappers.scikit_learn import KerasClassifier\n",
    "from sklearn.model_selection import GridSearchCV\n",
    "from keras.optimizers import SGD\n",
    "from keras.constraints import maxnorm\n",
    "from sklearn.externals import joblib\n",
    "from sklearn.model_selection import train_test_split\n",
    "from sklearn.ensemble import RandomForestClassifier\n",
    "from sklearn.metrics import classification_report\n",
    "from sklearn import metrics as m\n",
    "from keras.models import load_model\n",
    "from sklearn.utils.multiclass import unique_labels"
   ]
  },
  {
   "cell_type": "code",
   "execution_count": 0,
   "metadata": {
    "colab": {
     "base_uri": "https://localhost:8080/",
     "height": 122
    },
    "colab_type": "code",
    "executionInfo": {
     "elapsed": 22682,
     "status": "ok",
     "timestamp": 1555802353733,
     "user": {
      "displayName": "Jozef Valko",
      "photoUrl": "https://lh4.googleusercontent.com/-rJdYS_jqK20/AAAAAAAAAAI/AAAAAAAAJ_I/XVZBkrJc6LU/s64/photo.jpg",
      "userId": "10599775509760039875"
     },
     "user_tz": -120
    },
    "id": "dNQF-qmcP0Wx",
    "outputId": "7d5d8702-2769-4d82-bab1-8cac38603f6a"
   },
   "outputs": [
    {
     "name": "stdout",
     "output_type": "stream",
     "text": [
      "Go to this URL in a browser: https://accounts.google.com/o/oauth2/auth?client_id=947318989803-6bn6qk8qdgf4n4g3pfee6491hc0brc4i.apps.googleusercontent.com&redirect_uri=urn%3Aietf%3Awg%3Aoauth%3A2.0%3Aoob&scope=email%20https%3A%2F%2Fwww.googleapis.com%2Fauth%2Fdocs.test%20https%3A%2F%2Fwww.googleapis.com%2Fauth%2Fdrive%20https%3A%2F%2Fwww.googleapis.com%2Fauth%2Fdrive.photos.readonly%20https%3A%2F%2Fwww.googleapis.com%2Fauth%2Fpeopleapi.readonly&response_type=code\n",
      "\n",
      "Enter your authorization code:\n",
      "··········\n",
      "Mounted at /content/drive\n"
     ]
    }
   ],
   "source": [
    "from google.colab import drive\n",
    "drive.mount('/content/drive')"
   ]
  },
  {
   "cell_type": "code",
   "execution_count": 0,
   "metadata": {
    "colab": {},
    "colab_type": "code",
    "id": "Ls9eqty48-rF"
   },
   "outputs": [],
   "source": [
    "pd.set_option('display.max_columns', None)"
   ]
  },
  {
   "cell_type": "code",
   "execution_count": 0,
   "metadata": {
    "colab": {
     "base_uri": "https://localhost:8080/",
     "height": 105
    },
    "colab_type": "code",
    "executionInfo": {
     "elapsed": 22755,
     "status": "ok",
     "timestamp": 1555802382143,
     "user": {
      "displayName": "Jozef Valko",
      "photoUrl": "https://lh4.googleusercontent.com/-rJdYS_jqK20/AAAAAAAAAAI/AAAAAAAAJ_I/XVZBkrJc6LU/s64/photo.jpg",
      "userId": "10599775509760039875"
     },
     "user_tz": -120
    },
    "id": "vGkK2LV9gq3B",
    "outputId": "6b003ea1-7d84-46da-a5db-939062ac4a2d"
   },
   "outputs": [
    {
     "name": "stderr",
     "output_type": "stream",
     "text": [
      "/usr/local/lib/python2.7/dist-packages/IPython/core/interactiveshell.py:2718: DtypeWarning: Columns (1,3,47) have mixed types. Specify dtype option on import or set low_memory=False.\n",
      "  interactivity=interactivity, compiler=compiler, result=result)\n",
      "/usr/local/lib/python2.7/dist-packages/IPython/core/interactiveshell.py:2718: DtypeWarning: Columns (3,47) have mixed types. Specify dtype option on import or set low_memory=False.\n",
      "  interactivity=interactivity, compiler=compiler, result=result)\n"
     ]
    }
   ],
   "source": [
    "# Loading training set\n",
    "train = pd.read_csv('/content/drive/My Drive/FIIT STU/Ing/4. semester/Diplomový projekt 3/dataset/UNSW-NB15_full_training_set.csv')\n",
    "# Loading testing set\n",
    "test = pd.read_csv('/content/drive/My Drive/FIIT STU/Ing/4. semester/Diplomový projekt 3/dataset/UNSW-NB15_full_testing_set.csv')"
   ]
  },
  {
   "cell_type": "code",
   "execution_count": 0,
   "metadata": {
    "colab": {
     "base_uri": "https://localhost:8080/",
     "height": 34
    },
    "colab_type": "code",
    "executionInfo": {
     "elapsed": 22105,
     "status": "ok",
     "timestamp": 1555772228682,
     "user": {
      "displayName": "Jozef Valko",
      "photoUrl": "https://lh4.googleusercontent.com/-rJdYS_jqK20/AAAAAAAAAAI/AAAAAAAAJ_I/XVZBkrJc6LU/s64/photo.jpg",
      "userId": "10599775509760039875"
     },
     "user_tz": -120
    },
    "id": "4t9axYggoYGw",
    "outputId": "1285359d-0f32-4e02-a513-d2087b1d76c6"
   },
   "outputs": [
    {
     "data": {
      "text/plain": [
       "(2032037, 49)"
      ]
     },
     "execution_count": 5,
     "metadata": {
      "tags": []
     },
     "output_type": "execute_result"
    }
   ],
   "source": [
    "train.shape"
   ]
  },
  {
   "cell_type": "code",
   "execution_count": 0,
   "metadata": {
    "colab": {
     "base_uri": "https://localhost:8080/",
     "height": 34
    },
    "colab_type": "code",
    "executionInfo": {
     "elapsed": 21924,
     "status": "ok",
     "timestamp": 1555772229499,
     "user": {
      "displayName": "Jozef Valko",
      "photoUrl": "https://lh4.googleusercontent.com/-rJdYS_jqK20/AAAAAAAAAAI/AAAAAAAAJ_I/XVZBkrJc6LU/s64/photo.jpg",
      "userId": "10599775509760039875"
     },
     "user_tz": -120
    },
    "id": "rNii1j6BoaYC",
    "outputId": "c5cf1e06-cf3d-4770-bc91-e2aaa66c4911"
   },
   "outputs": [
    {
     "data": {
      "text/plain": [
       "(508010, 49)"
      ]
     },
     "execution_count": 6,
     "metadata": {
      "tags": []
     },
     "output_type": "execute_result"
    }
   ],
   "source": [
    "test.shape"
   ]
  },
  {
   "cell_type": "code",
   "execution_count": 0,
   "metadata": {
    "colab": {
     "base_uri": "https://localhost:8080/",
     "height": 102
    },
    "colab_type": "code",
    "executionInfo": {
     "elapsed": 1062,
     "status": "ok",
     "timestamp": 1555772378914,
     "user": {
      "displayName": "Jozef Valko",
      "photoUrl": "https://lh4.googleusercontent.com/-rJdYS_jqK20/AAAAAAAAAAI/AAAAAAAAJ_I/XVZBkrJc6LU/s64/photo.jpg",
      "userId": "10599775509760039875"
     },
     "user_tz": -120
    },
    "id": "8spVS3IvQmZk",
    "outputId": "90719b12-7295-446f-d926-accdf739f3b8"
   },
   "outputs": [
    {
     "data": {
      "text/plain": [
       "count     2032037\n",
       "unique        135\n",
       "top           tcp\n",
       "freq      1196255\n",
       "Name: proto, dtype: object"
      ]
     },
     "execution_count": 15,
     "metadata": {
      "tags": []
     },
     "output_type": "execute_result"
    }
   ],
   "source": [
    "train['proto'].describe()"
   ]
  },
  {
   "cell_type": "code",
   "execution_count": 0,
   "metadata": {
    "colab": {
     "base_uri": "https://localhost:8080/",
     "height": 102
    },
    "colab_type": "code",
    "executionInfo": {
     "elapsed": 1607,
     "status": "ok",
     "timestamp": 1555772558085,
     "user": {
      "displayName": "Jozef Valko",
      "photoUrl": "https://lh4.googleusercontent.com/-rJdYS_jqK20/AAAAAAAAAAI/AAAAAAAAJ_I/XVZBkrJc6LU/s64/photo.jpg",
      "userId": "10599775509760039875"
     },
     "user_tz": -120
    },
    "id": "E5v7mrbhRQ20",
    "outputId": "78453986-36d8-455d-86e7-ef3398366e6f"
   },
   "outputs": [
    {
     "data": {
      "text/plain": [
       "count     1775011\n",
       "unique          9\n",
       "top           tcp\n",
       "freq      1149656\n",
       "Name: proto, dtype: object"
      ]
     },
     "execution_count": 16,
     "metadata": {
      "tags": []
     },
     "output_type": "execute_result"
    }
   ],
   "source": [
    "train.loc[train['Label'] == 0]['proto'].describe()"
   ]
  },
  {
   "cell_type": "code",
   "execution_count": 0,
   "metadata": {
    "colab": {
     "base_uri": "https://localhost:8080/",
     "height": 102
    },
    "colab_type": "code",
    "executionInfo": {
     "elapsed": 827,
     "status": "ok",
     "timestamp": 1555772567869,
     "user": {
      "displayName": "Jozef Valko",
      "photoUrl": "https://lh4.googleusercontent.com/-rJdYS_jqK20/AAAAAAAAAAI/AAAAAAAAJ_I/XVZBkrJc6LU/s64/photo.jpg",
      "userId": "10599775509760039875"
     },
     "user_tz": -120
    },
    "id": "TTyV3j0FRVYS",
    "outputId": "376be5b1-5425-4173-dcbd-8f93189b5c67"
   },
   "outputs": [
    {
     "data": {
      "text/plain": [
       "count     257026\n",
       "unique       129\n",
       "top          udp\n",
       "freq      178937\n",
       "Name: proto, dtype: object"
      ]
     },
     "execution_count": 17,
     "metadata": {
      "tags": []
     },
     "output_type": "execute_result"
    }
   ],
   "source": [
    "train.loc[train['Label'] == 1]['proto'].describe()"
   ]
  },
  {
   "cell_type": "code",
   "execution_count": 0,
   "metadata": {
    "colab": {
     "base_uri": "https://localhost:8080/",
     "height": 187
    },
    "colab_type": "code",
    "executionInfo": {
     "elapsed": 1367,
     "status": "ok",
     "timestamp": 1555772360777,
     "user": {
      "displayName": "Jozef Valko",
      "photoUrl": "https://lh4.googleusercontent.com/-rJdYS_jqK20/AAAAAAAAAAI/AAAAAAAAJ_I/XVZBkrJc6LU/s64/photo.jpg",
      "userId": "10599775509760039875"
     },
     "user_tz": -120
    },
    "id": "MWNtaFGNQivU",
    "outputId": "e329270f-3473-4dcc-ae42-e4260024264b"
   },
   "outputs": [
    {
     "data": {
      "text/plain": [
       "tcp     1149656\n",
       "udp      613242\n",
       "arp        8022\n",
       "ospf       3605\n",
       "icmp        423\n",
       "igmp         49\n",
       "udt           7\n",
       "rtp           5\n",
       "esp           2\n",
       "Name: proto, dtype: int64"
      ]
     },
     "execution_count": 14,
     "metadata": {
      "tags": []
     },
     "output_type": "execute_result"
    }
   ],
   "source": [
    "train.loc[train['Label'] == 0]['proto'].value_counts()"
   ]
  },
  {
   "cell_type": "code",
   "execution_count": 0,
   "metadata": {
    "colab": {
     "base_uri": "https://localhost:8080/",
     "height": 301
    },
    "colab_type": "code",
    "executionInfo": {
     "elapsed": 1884,
     "status": "ok",
     "timestamp": 1555772326663,
     "user": {
      "displayName": "Jozef Valko",
      "photoUrl": "https://lh4.googleusercontent.com/-rJdYS_jqK20/AAAAAAAAAAI/AAAAAAAAJ_I/XVZBkrJc6LU/s64/photo.jpg",
      "userId": "10599775509760039875"
     },
     "user_tz": -120
    },
    "id": "hRH-BGnHP_rq",
    "outputId": "13277b71-0dcf-4228-8304-cc182d5c7d60"
   },
   "outputs": [
    {
     "data": {
      "text/plain": [
       "<matplotlib.axes._subplots.AxesSubplot at 0x7ff2a7038450>"
      ]
     },
     "execution_count": 13,
     "metadata": {
      "tags": []
     },
     "output_type": "execute_result"
    },
    {
     "data": {
      "image/png": "[encoded data removed]",
      "text/plain": [
       "<Figure size 432x288 with 1 Axes>"
      ]
     },
     "metadata": {
      "tags": []
     },
     "output_type": "display_data"
    }
   ],
   "source": [
    "train.loc[train['Label'] == 0]['proto'].value_counts().plot(kind='bar')"
   ]
  },
  {
   "cell_type": "markdown",
   "metadata": {
    "colab_type": "text",
    "id": "Q6uyQQgpJ1g_"
   },
   "source": [
    "## Loading data and generate training and testing sets\n",
    "Loaded 4 csv files\n",
    "\n",
    "Concated into one DataFrame\n",
    "\n",
    "Splitted into training and testing data, ratio 80:20\n",
    "\n",
    "Normal traffic was splitted separated from attack traffic\n",
    "\n",
    "Training and testing sets were afterwards saved into csv files"
   ]
  },
  {
   "cell_type": "code",
   "execution_count": 0,
   "metadata": {
    "colab": {},
    "colab_type": "code",
    "id": "29e1VXtAFf6B"
   },
   "outputs": [],
   "source": [
    "features = pd.read_csv('/content/drive/My Drive/FIIT STU/Ing/4. semester/Diplomový projekt 3/dataset/features.csv')"
   ]
  },
  {
   "cell_type": "code",
   "execution_count": 0,
   "metadata": {
    "colab": {
     "base_uri": "https://localhost:8080/",
     "height": 85
    },
    "colab_type": "code",
    "executionInfo": {
     "elapsed": 7987,
     "status": "ok",
     "timestamp": 1554641992127,
     "user": {
      "displayName": "Jozef Valko",
      "photoUrl": "https://lh4.googleusercontent.com/-rJdYS_jqK20/AAAAAAAAAAI/AAAAAAAAJ_I/XVZBkrJc6LU/s64/photo.jpg",
      "userId": "10599775509760039875"
     },
     "user_tz": -120
    },
    "id": "vdke_WcGvltV",
    "outputId": "11b50021-2f8c-47da-a4dd-d4459197ac9e"
   },
   "outputs": [
    {
     "name": "stderr",
     "output_type": "stream",
     "text": [
      "/usr/local/lib/python2.7/dist-packages/pandas/io/parsers.py:709: UserWarning: Duplicate names specified. This will raise an error in the future.\n",
      "  return _read(filepath_or_buffer, kwds)\n",
      "/usr/local/lib/python2.7/dist-packages/IPython/core/interactiveshell.py:2718: DtypeWarning: Columns (1,3,47) have mixed types. Specify dtype option on import or set low_memory=False.\n",
      "  interactivity=interactivity, compiler=compiler, result=result)\n"
     ]
    }
   ],
   "source": [
    "data1 = pd.read_csv('/content/drive/My Drive/FIIT STU/Ing/4. semester/Diplomový projekt 3/dataset/UNSW-NB15_1.csv', names=features)"
   ]
  },
  {
   "cell_type": "code",
   "execution_count": 0,
   "metadata": {
    "colab": {
     "base_uri": "https://localhost:8080/",
     "height": 51
    },
    "colab_type": "code",
    "executionInfo": {
     "elapsed": 14029,
     "status": "ok",
     "timestamp": 1554641998191,
     "user": {
      "displayName": "Jozef Valko",
      "photoUrl": "https://lh4.googleusercontent.com/-rJdYS_jqK20/AAAAAAAAAAI/AAAAAAAAJ_I/XVZBkrJc6LU/s64/photo.jpg",
      "userId": "10599775509760039875"
     },
     "user_tz": -120
    },
    "id": "t8z_C-Jc9W8g",
    "outputId": "8914f48a-5f11-470d-f5bb-8922bb120f80"
   },
   "outputs": [
    {
     "name": "stderr",
     "output_type": "stream",
     "text": [
      "/usr/local/lib/python2.7/dist-packages/IPython/core/interactiveshell.py:2718: DtypeWarning: Columns (3,39,47) have mixed types. Specify dtype option on import or set low_memory=False.\n",
      "  interactivity=interactivity, compiler=compiler, result=result)\n"
     ]
    }
   ],
   "source": [
    "data2 = pd.read_csv('/content/drive/My Drive/FIIT STU/Ing/4. semester/Diplomový projekt 3/dataset/UNSW-NB15_2.csv', names=features)"
   ]
  },
  {
   "cell_type": "code",
   "execution_count": 0,
   "metadata": {
    "colab": {},
    "colab_type": "code",
    "id": "IQA-eg3N9Xis"
   },
   "outputs": [],
   "source": [
    "data3 = pd.read_csv('/content/drive/My Drive/FIIT STU/Ing/4. semester/Diplomový projekt 3/dataset/UNSW-NB15_3.csv', names=features)"
   ]
  },
  {
   "cell_type": "code",
   "execution_count": 0,
   "metadata": {
    "colab": {},
    "colab_type": "code",
    "id": "oq9fbl-L9YMR"
   },
   "outputs": [],
   "source": [
    "data4 = pd.read_csv('/content/drive/My Drive/FIIT STU/Ing/4. semester/Diplomový projekt 3/dataset/UNSW-NB15_4.csv', names=features)"
   ]
  },
  {
   "cell_type": "code",
   "execution_count": 0,
   "metadata": {
    "colab": {
     "base_uri": "https://localhost:8080/",
     "height": 224
    },
    "colab_type": "code",
    "executionInfo": {
     "elapsed": 24108,
     "status": "ok",
     "timestamp": 1554642008331,
     "user": {
      "displayName": "Jozef Valko",
      "photoUrl": "https://lh4.googleusercontent.com/-rJdYS_jqK20/AAAAAAAAAAI/AAAAAAAAJ_I/XVZBkrJc6LU/s64/photo.jpg",
      "userId": "10599775509760039875"
     },
     "user_tz": -120
    },
    "id": "U7NQy1kNFVm6",
    "outputId": "cbafe539-5a66-42ee-a819-ed65ee1e6ac5"
   },
   "outputs": [
    {
     "data": {
      "text/html": [
       "<div>\n",
       "<style scoped>\n",
       "    .dataframe tbody tr th:only-of-type {\n",
       "        vertical-align: middle;\n",
       "    }\n",
       "\n",
       "    .dataframe tbody tr th {\n",
       "        vertical-align: top;\n",
       "    }\n",
       "\n",
       "    .dataframe thead th {\n",
       "        text-align: right;\n",
       "    }\n",
       "</style>\n",
       "<table border=\"1\" class=\"dataframe\">\n",
       "  <thead>\n",
       "    <tr style=\"text-align: right;\">\n",
       "      <th></th>\n",
       "      <th>srcip</th>\n",
       "      <th>sport</th>\n",
       "      <th>dstip</th>\n",
       "      <th>dsport</th>\n",
       "      <th>proto</th>\n",
       "      <th>state</th>\n",
       "      <th>dur</th>\n",
       "      <th>sbytes</th>\n",
       "      <th>dbytes</th>\n",
       "      <th>sttl</th>\n",
       "      <th>dttl</th>\n",
       "      <th>sloss</th>\n",
       "      <th>dloss</th>\n",
       "      <th>service</th>\n",
       "      <th>Sload</th>\n",
       "      <th>Dload</th>\n",
       "      <th>Spkts</th>\n",
       "      <th>Dpkts</th>\n",
       "      <th>swin</th>\n",
       "      <th>dwin</th>\n",
       "      <th>stcpb</th>\n",
       "      <th>dtcpb</th>\n",
       "      <th>smeansz</th>\n",
       "      <th>dmeansz</th>\n",
       "      <th>trans_depth</th>\n",
       "      <th>res_bdy_len</th>\n",
       "      <th>Sjit</th>\n",
       "      <th>Djit</th>\n",
       "      <th>Stime</th>\n",
       "      <th>Ltime</th>\n",
       "      <th>Sintpkt</th>\n",
       "      <th>Dintpkt</th>\n",
       "      <th>tcprtt</th>\n",
       "      <th>synack</th>\n",
       "      <th>ackdat</th>\n",
       "      <th>is_sm_ips_ports</th>\n",
       "      <th>ct_state_ttl</th>\n",
       "      <th>ct_flw_http_mthd</th>\n",
       "      <th>is_ftp_login</th>\n",
       "      <th>ct_ftp_cmd</th>\n",
       "      <th>ct_srv_src</th>\n",
       "      <th>ct_srv_dst</th>\n",
       "      <th>ct_dst_ltm</th>\n",
       "      <th>ct_src_ltm</th>\n",
       "      <th>ct_src_dport_ltm</th>\n",
       "      <th>ct_dst_sport_ltm</th>\n",
       "      <th>ct_dst_src_ltm</th>\n",
       "      <th>attack_cat</th>\n",
       "      <th>Label</th>\n",
       "    </tr>\n",
       "  </thead>\n",
       "  <tbody>\n",
       "    <tr>\n",
       "      <th>0</th>\n",
       "      <td>59.166.0.0</td>\n",
       "      <td>1390</td>\n",
       "      <td>149.171.126.6</td>\n",
       "      <td>53</td>\n",
       "      <td>udp</td>\n",
       "      <td>CON</td>\n",
       "      <td>0.001055</td>\n",
       "      <td>132</td>\n",
       "      <td>164</td>\n",
       "      <td>31</td>\n",
       "      <td>29</td>\n",
       "      <td>0</td>\n",
       "      <td>0</td>\n",
       "      <td>dns</td>\n",
       "      <td>500473.93750</td>\n",
       "      <td>621800.93750</td>\n",
       "      <td>2</td>\n",
       "      <td>2</td>\n",
       "      <td>0</td>\n",
       "      <td>0</td>\n",
       "      <td>0</td>\n",
       "      <td>0</td>\n",
       "      <td>66</td>\n",
       "      <td>82</td>\n",
       "      <td>0</td>\n",
       "      <td>0</td>\n",
       "      <td>0.00000</td>\n",
       "      <td>0.000000</td>\n",
       "      <td>1421927414</td>\n",
       "      <td>1421927414</td>\n",
       "      <td>0.017</td>\n",
       "      <td>0.013000</td>\n",
       "      <td>0.0</td>\n",
       "      <td>0.0</td>\n",
       "      <td>0.0</td>\n",
       "      <td>0</td>\n",
       "      <td>0</td>\n",
       "      <td>0</td>\n",
       "      <td>0</td>\n",
       "      <td>0</td>\n",
       "      <td>3</td>\n",
       "      <td>7</td>\n",
       "      <td>1</td>\n",
       "      <td>3</td>\n",
       "      <td>1</td>\n",
       "      <td>1</td>\n",
       "      <td>1</td>\n",
       "      <td>NaN</td>\n",
       "      <td>0</td>\n",
       "    </tr>\n",
       "    <tr>\n",
       "      <th>1</th>\n",
       "      <td>59.166.0.0</td>\n",
       "      <td>33661</td>\n",
       "      <td>149.171.126.9</td>\n",
       "      <td>1024</td>\n",
       "      <td>udp</td>\n",
       "      <td>CON</td>\n",
       "      <td>0.036133</td>\n",
       "      <td>528</td>\n",
       "      <td>304</td>\n",
       "      <td>31</td>\n",
       "      <td>29</td>\n",
       "      <td>0</td>\n",
       "      <td>0</td>\n",
       "      <td>-</td>\n",
       "      <td>87676.08594</td>\n",
       "      <td>50480.17188</td>\n",
       "      <td>4</td>\n",
       "      <td>4</td>\n",
       "      <td>0</td>\n",
       "      <td>0</td>\n",
       "      <td>0</td>\n",
       "      <td>0</td>\n",
       "      <td>132</td>\n",
       "      <td>76</td>\n",
       "      <td>0</td>\n",
       "      <td>0</td>\n",
       "      <td>9.89101</td>\n",
       "      <td>10.682733</td>\n",
       "      <td>1421927414</td>\n",
       "      <td>1421927414</td>\n",
       "      <td>7.005</td>\n",
       "      <td>7.564333</td>\n",
       "      <td>0.0</td>\n",
       "      <td>0.0</td>\n",
       "      <td>0.0</td>\n",
       "      <td>0</td>\n",
       "      <td>0</td>\n",
       "      <td>0</td>\n",
       "      <td>0</td>\n",
       "      <td>0</td>\n",
       "      <td>2</td>\n",
       "      <td>4</td>\n",
       "      <td>2</td>\n",
       "      <td>3</td>\n",
       "      <td>1</td>\n",
       "      <td>1</td>\n",
       "      <td>2</td>\n",
       "      <td>NaN</td>\n",
       "      <td>0</td>\n",
       "    </tr>\n",
       "    <tr>\n",
       "      <th>2</th>\n",
       "      <td>59.166.0.6</td>\n",
       "      <td>1464</td>\n",
       "      <td>149.171.126.7</td>\n",
       "      <td>53</td>\n",
       "      <td>udp</td>\n",
       "      <td>CON</td>\n",
       "      <td>0.001119</td>\n",
       "      <td>146</td>\n",
       "      <td>178</td>\n",
       "      <td>31</td>\n",
       "      <td>29</td>\n",
       "      <td>0</td>\n",
       "      <td>0</td>\n",
       "      <td>dns</td>\n",
       "      <td>521894.53130</td>\n",
       "      <td>636282.37500</td>\n",
       "      <td>2</td>\n",
       "      <td>2</td>\n",
       "      <td>0</td>\n",
       "      <td>0</td>\n",
       "      <td>0</td>\n",
       "      <td>0</td>\n",
       "      <td>73</td>\n",
       "      <td>89</td>\n",
       "      <td>0</td>\n",
       "      <td>0</td>\n",
       "      <td>0.00000</td>\n",
       "      <td>0.000000</td>\n",
       "      <td>1421927414</td>\n",
       "      <td>1421927414</td>\n",
       "      <td>0.017</td>\n",
       "      <td>0.013000</td>\n",
       "      <td>0.0</td>\n",
       "      <td>0.0</td>\n",
       "      <td>0.0</td>\n",
       "      <td>0</td>\n",
       "      <td>0</td>\n",
       "      <td>0</td>\n",
       "      <td>0</td>\n",
       "      <td>0</td>\n",
       "      <td>12</td>\n",
       "      <td>8</td>\n",
       "      <td>1</td>\n",
       "      <td>2</td>\n",
       "      <td>2</td>\n",
       "      <td>1</td>\n",
       "      <td>1</td>\n",
       "      <td>NaN</td>\n",
       "      <td>0</td>\n",
       "    </tr>\n",
       "    <tr>\n",
       "      <th>3</th>\n",
       "      <td>59.166.0.5</td>\n",
       "      <td>3593</td>\n",
       "      <td>149.171.126.5</td>\n",
       "      <td>53</td>\n",
       "      <td>udp</td>\n",
       "      <td>CON</td>\n",
       "      <td>0.001209</td>\n",
       "      <td>132</td>\n",
       "      <td>164</td>\n",
       "      <td>31</td>\n",
       "      <td>29</td>\n",
       "      <td>0</td>\n",
       "      <td>0</td>\n",
       "      <td>dns</td>\n",
       "      <td>436724.56250</td>\n",
       "      <td>542597.18750</td>\n",
       "      <td>2</td>\n",
       "      <td>2</td>\n",
       "      <td>0</td>\n",
       "      <td>0</td>\n",
       "      <td>0</td>\n",
       "      <td>0</td>\n",
       "      <td>66</td>\n",
       "      <td>82</td>\n",
       "      <td>0</td>\n",
       "      <td>0</td>\n",
       "      <td>0.00000</td>\n",
       "      <td>0.000000</td>\n",
       "      <td>1421927414</td>\n",
       "      <td>1421927414</td>\n",
       "      <td>0.043</td>\n",
       "      <td>0.014000</td>\n",
       "      <td>0.0</td>\n",
       "      <td>0.0</td>\n",
       "      <td>0.0</td>\n",
       "      <td>0</td>\n",
       "      <td>0</td>\n",
       "      <td>0</td>\n",
       "      <td>0</td>\n",
       "      <td>0</td>\n",
       "      <td>6</td>\n",
       "      <td>9</td>\n",
       "      <td>1</td>\n",
       "      <td>1</td>\n",
       "      <td>1</td>\n",
       "      <td>1</td>\n",
       "      <td>1</td>\n",
       "      <td>NaN</td>\n",
       "      <td>0</td>\n",
       "    </tr>\n",
       "    <tr>\n",
       "      <th>4</th>\n",
       "      <td>59.166.0.3</td>\n",
       "      <td>49664</td>\n",
       "      <td>149.171.126.0</td>\n",
       "      <td>53</td>\n",
       "      <td>udp</td>\n",
       "      <td>CON</td>\n",
       "      <td>0.001169</td>\n",
       "      <td>146</td>\n",
       "      <td>178</td>\n",
       "      <td>31</td>\n",
       "      <td>29</td>\n",
       "      <td>0</td>\n",
       "      <td>0</td>\n",
       "      <td>dns</td>\n",
       "      <td>499572.25000</td>\n",
       "      <td>609067.56250</td>\n",
       "      <td>2</td>\n",
       "      <td>2</td>\n",
       "      <td>0</td>\n",
       "      <td>0</td>\n",
       "      <td>0</td>\n",
       "      <td>0</td>\n",
       "      <td>73</td>\n",
       "      <td>89</td>\n",
       "      <td>0</td>\n",
       "      <td>0</td>\n",
       "      <td>0.00000</td>\n",
       "      <td>0.000000</td>\n",
       "      <td>1421927414</td>\n",
       "      <td>1421927414</td>\n",
       "      <td>0.005</td>\n",
       "      <td>0.003000</td>\n",
       "      <td>0.0</td>\n",
       "      <td>0.0</td>\n",
       "      <td>0.0</td>\n",
       "      <td>0</td>\n",
       "      <td>0</td>\n",
       "      <td>0</td>\n",
       "      <td>0</td>\n",
       "      <td>0</td>\n",
       "      <td>7</td>\n",
       "      <td>9</td>\n",
       "      <td>1</td>\n",
       "      <td>1</td>\n",
       "      <td>1</td>\n",
       "      <td>1</td>\n",
       "      <td>1</td>\n",
       "      <td>NaN</td>\n",
       "      <td>0</td>\n",
       "    </tr>\n",
       "  </tbody>\n",
       "</table>\n",
       "</div>"
      ],
      "text/plain": [
       "        srcip  sport          dstip dsport proto state       dur  sbytes  \\\n",
       "0  59.166.0.0   1390  149.171.126.6     53   udp   CON  0.001055     132   \n",
       "1  59.166.0.0  33661  149.171.126.9   1024   udp   CON  0.036133     528   \n",
       "2  59.166.0.6   1464  149.171.126.7     53   udp   CON  0.001119     146   \n",
       "3  59.166.0.5   3593  149.171.126.5     53   udp   CON  0.001209     132   \n",
       "4  59.166.0.3  49664  149.171.126.0     53   udp   CON  0.001169     146   \n",
       "\n",
       "   dbytes  sttl  dttl  sloss  dloss service         Sload         Dload  \\\n",
       "0     164    31    29      0      0     dns  500473.93750  621800.93750   \n",
       "1     304    31    29      0      0       -   87676.08594   50480.17188   \n",
       "2     178    31    29      0      0     dns  521894.53130  636282.37500   \n",
       "3     164    31    29      0      0     dns  436724.56250  542597.18750   \n",
       "4     178    31    29      0      0     dns  499572.25000  609067.56250   \n",
       "\n",
       "   Spkts  Dpkts  swin  dwin  stcpb  dtcpb  smeansz  dmeansz  trans_depth  \\\n",
       "0      2      2     0     0      0      0       66       82            0   \n",
       "1      4      4     0     0      0      0      132       76            0   \n",
       "2      2      2     0     0      0      0       73       89            0   \n",
       "3      2      2     0     0      0      0       66       82            0   \n",
       "4      2      2     0     0      0      0       73       89            0   \n",
       "\n",
       "   res_bdy_len     Sjit       Djit       Stime       Ltime  Sintpkt   Dintpkt  \\\n",
       "0            0  0.00000   0.000000  1421927414  1421927414    0.017  0.013000   \n",
       "1            0  9.89101  10.682733  1421927414  1421927414    7.005  7.564333   \n",
       "2            0  0.00000   0.000000  1421927414  1421927414    0.017  0.013000   \n",
       "3            0  0.00000   0.000000  1421927414  1421927414    0.043  0.014000   \n",
       "4            0  0.00000   0.000000  1421927414  1421927414    0.005  0.003000   \n",
       "\n",
       "   tcprtt  synack  ackdat  is_sm_ips_ports  ct_state_ttl  ct_flw_http_mthd  \\\n",
       "0     0.0     0.0     0.0                0             0                 0   \n",
       "1     0.0     0.0     0.0                0             0                 0   \n",
       "2     0.0     0.0     0.0                0             0                 0   \n",
       "3     0.0     0.0     0.0                0             0                 0   \n",
       "4     0.0     0.0     0.0                0             0                 0   \n",
       "\n",
       "   is_ftp_login  ct_ftp_cmd  ct_srv_src  ct_srv_dst  ct_dst_ltm  ct_src_ltm  \\\n",
       "0             0           0           3           7           1           3   \n",
       "1             0           0           2           4           2           3   \n",
       "2             0           0          12           8           1           2   \n",
       "3             0           0           6           9           1           1   \n",
       "4             0           0           7           9           1           1   \n",
       "\n",
       "   ct_src_dport_ltm  ct_dst_sport_ltm  ct_dst_src_ltm attack_cat  Label  \n",
       "0                 1                 1               1        NaN      0  \n",
       "1                 1                 1               2        NaN      0  \n",
       "2                 2                 1               1        NaN      0  \n",
       "3                 1                 1               1        NaN      0  \n",
       "4                 1                 1               1        NaN      0  "
      ]
     },
     "execution_count": 13,
     "metadata": {
      "tags": []
     },
     "output_type": "execute_result"
    }
   ],
   "source": [
    "data1.head()"
   ]
  },
  {
   "cell_type": "code",
   "execution_count": 0,
   "metadata": {
    "colab": {
     "base_uri": "https://localhost:8080/",
     "height": 34
    },
    "colab_type": "code",
    "executionInfo": {
     "elapsed": 25936,
     "status": "ok",
     "timestamp": 1554642010178,
     "user": {
      "displayName": "Jozef Valko",
      "photoUrl": "https://lh4.googleusercontent.com/-rJdYS_jqK20/AAAAAAAAAAI/AAAAAAAAJ_I/XVZBkrJc6LU/s64/photo.jpg",
      "userId": "10599775509760039875"
     },
     "user_tz": -120
    },
    "id": "p5YK8IU-IWEO",
    "outputId": "30ed610a-c73f-4f88-d28f-3ce4b5cd8d55"
   },
   "outputs": [
    {
     "data": {
      "text/plain": [
       "(2540047, 49)"
      ]
     },
     "execution_count": 14,
     "metadata": {
      "tags": []
     },
     "output_type": "execute_result"
    }
   ],
   "source": [
    "data = pd.concat([data1, data2, data3, data4], ignore_index=True)\n",
    "data.shape"
   ]
  },
  {
   "cell_type": "markdown",
   "metadata": {
    "colab_type": "text",
    "id": "OppNlG1TKSFW"
   },
   "source": [
    "Here is also initial inspection on protocols. We will print which protocols are used in Normal and Attack traffic.\n",
    "\n",
    "There should be many protocols in Attack traffic, but only few in Normal traffic."
   ]
  },
  {
   "cell_type": "code",
   "execution_count": 0,
   "metadata": {
    "colab": {
     "base_uri": "https://localhost:8080/",
     "height": 102
    },
    "colab_type": "code",
    "executionInfo": {
     "elapsed": 1254,
     "status": "ok",
     "timestamp": 1554647647208,
     "user": {
      "displayName": "Jozef Valko",
      "photoUrl": "https://lh4.googleusercontent.com/-rJdYS_jqK20/AAAAAAAAAAI/AAAAAAAAJ_I/XVZBkrJc6LU/s64/photo.jpg",
      "userId": "10599775509760039875"
     },
     "user_tz": -120
    },
    "id": "xaBFps33IlYD",
    "outputId": "f27095b3-8272-4a4f-e5ff-7d61bed2d902"
   },
   "outputs": [
    {
     "name": "stdout",
     "output_type": "stream",
     "text": [
      "count     2540047\n",
      "unique        135\n",
      "top           tcp\n",
      "freq      1495074\n",
      "Name: proto, dtype: object\n"
     ]
    }
   ],
   "source": [
    "protos = data[['proto','Label']]\n",
    "protos['proto'].describe()"
   ]
  },
  {
   "cell_type": "code",
   "execution_count": 0,
   "metadata": {
    "colab": {
     "base_uri": "https://localhost:8080/",
     "height": 102
    },
    "colab_type": "code",
    "executionInfo": {
     "elapsed": 1281,
     "status": "ok",
     "timestamp": 1554647657432,
     "user": {
      "displayName": "Jozef Valko",
      "photoUrl": "https://lh4.googleusercontent.com/-rJdYS_jqK20/AAAAAAAAAAI/AAAAAAAAJ_I/XVZBkrJc6LU/s64/photo.jpg",
      "userId": "10599775509760039875"
     },
     "user_tz": -120
    },
    "id": "AfX5W8U2Iwx3",
    "outputId": "c0ad39c8-6c3b-453a-a55e-4b6130310911"
   },
   "outputs": [
    {
     "name": "stdout",
     "output_type": "stream",
     "text": [
      "count     2218764\n",
      "unique          9\n",
      "top           tcp\n",
      "freq      1436890\n",
      "Name: proto, dtype: object\n"
     ]
    }
   ],
   "source": [
    "normal = protos.loc[protos['Label'] == 0]\n",
    "normal['proto'].describe()"
   ]
  },
  {
   "cell_type": "code",
   "execution_count": 0,
   "metadata": {
    "colab": {
     "base_uri": "https://localhost:8080/",
     "height": 102
    },
    "colab_type": "code",
    "executionInfo": {
     "elapsed": 753,
     "status": "ok",
     "timestamp": 1554647661106,
     "user": {
      "displayName": "Jozef Valko",
      "photoUrl": "https://lh4.googleusercontent.com/-rJdYS_jqK20/AAAAAAAAAAI/AAAAAAAAJ_I/XVZBkrJc6LU/s64/photo.jpg",
      "userId": "10599775509760039875"
     },
     "user_tz": -120
    },
    "id": "KoDmaHQvI2XU",
    "outputId": "6bf25a50-7906-402e-f38d-492e0adeea83"
   },
   "outputs": [
    {
     "name": "stdout",
     "output_type": "stream",
     "text": [
      "count     321283\n",
      "unique       129\n",
      "top          udp\n",
      "freq      223750\n",
      "Name: proto, dtype: object\n"
     ]
    }
   ],
   "source": [
    "attack = protos.loc[protos['Label'] == 1]\n",
    "attack['proto'].describe()"
   ]
  },
  {
   "cell_type": "code",
   "execution_count": 0,
   "metadata": {
    "colab": {
     "base_uri": "https://localhost:8080/",
     "height": 187
    },
    "colab_type": "code",
    "executionInfo": {
     "elapsed": 1007,
     "status": "ok",
     "timestamp": 1554647693280,
     "user": {
      "displayName": "Jozef Valko",
      "photoUrl": "https://lh4.googleusercontent.com/-rJdYS_jqK20/AAAAAAAAAAI/AAAAAAAAJ_I/XVZBkrJc6LU/s64/photo.jpg",
      "userId": "10599775509760039875"
     },
     "user_tz": -120
    },
    "id": "WumB9wKsJEm8",
    "outputId": "09033c4a-49f6-4aee-8616-709436101b9d"
   },
   "outputs": [
    {
     "data": {
      "text/plain": [
       "tcp     1436890\n",
       "udp      766685\n",
       "arp       10064\n",
       "ospf       4520\n",
       "icmp        524\n",
       "igmp         64\n",
       "udt           8\n",
       "rtp           7\n",
       "esp           2\n",
       "Name: proto, dtype: int64"
      ]
     },
     "execution_count": 86,
     "metadata": {
      "tags": []
     },
     "output_type": "execute_result"
    }
   ],
   "source": [
    "normal['proto'].value_counts()"
   ]
  },
  {
   "cell_type": "code",
   "execution_count": 0,
   "metadata": {
    "colab": {
     "base_uri": "https://localhost:8080/",
     "height": 297
    },
    "colab_type": "code",
    "executionInfo": {
     "elapsed": 882,
     "status": "ok",
     "timestamp": 1554647912264,
     "user": {
      "displayName": "Jozef Valko",
      "photoUrl": "https://lh4.googleusercontent.com/-rJdYS_jqK20/AAAAAAAAAAI/AAAAAAAAJ_I/XVZBkrJc6LU/s64/photo.jpg",
      "userId": "10599775509760039875"
     },
     "user_tz": -120
    },
    "id": "rkjn_srfON2T",
    "outputId": "2ee66f22-5c84-4ee8-d5da-cc6fce4acc40"
   },
   "outputs": [
    {
     "data": {
      "text/html": [
       "<div>\n",
       "<style scoped>\n",
       "    .dataframe tbody tr th:only-of-type {\n",
       "        vertical-align: middle;\n",
       "    }\n",
       "\n",
       "    .dataframe tbody tr th {\n",
       "        vertical-align: top;\n",
       "    }\n",
       "\n",
       "    .dataframe thead th {\n",
       "        text-align: right;\n",
       "    }\n",
       "</style>\n",
       "<table border=\"1\" class=\"dataframe\">\n",
       "  <thead>\n",
       "    <tr style=\"text-align: right;\">\n",
       "      <th></th>\n",
       "      <th>Label</th>\n",
       "    </tr>\n",
       "  </thead>\n",
       "  <tbody>\n",
       "    <tr>\n",
       "      <th>count</th>\n",
       "      <td>3278.0</td>\n",
       "    </tr>\n",
       "    <tr>\n",
       "      <th>mean</th>\n",
       "      <td>1.0</td>\n",
       "    </tr>\n",
       "    <tr>\n",
       "      <th>std</th>\n",
       "      <td>0.0</td>\n",
       "    </tr>\n",
       "    <tr>\n",
       "      <th>min</th>\n",
       "      <td>1.0</td>\n",
       "    </tr>\n",
       "    <tr>\n",
       "      <th>25%</th>\n",
       "      <td>1.0</td>\n",
       "    </tr>\n",
       "    <tr>\n",
       "      <th>50%</th>\n",
       "      <td>1.0</td>\n",
       "    </tr>\n",
       "    <tr>\n",
       "      <th>75%</th>\n",
       "      <td>1.0</td>\n",
       "    </tr>\n",
       "    <tr>\n",
       "      <th>max</th>\n",
       "      <td>1.0</td>\n",
       "    </tr>\n",
       "  </tbody>\n",
       "</table>\n",
       "</div>"
      ],
      "text/plain": [
       "        Label\n",
       "count  3278.0\n",
       "mean      1.0\n",
       "std       0.0\n",
       "min       1.0\n",
       "25%       1.0\n",
       "50%       1.0\n",
       "75%       1.0\n",
       "max       1.0"
      ]
     },
     "execution_count": 95,
     "metadata": {
      "tags": []
     },
     "output_type": "execute_result"
    }
   ],
   "source": [
    "attack.loc[attack['proto'] == 'ospf'].describe()"
   ]
  },
  {
   "cell_type": "code",
   "execution_count": 0,
   "metadata": {
    "colab": {},
    "colab_type": "code",
    "id": "nOFyXxqsOWwB"
   },
   "outputs": [],
   "source": [
    "data[['attack_cat']] = data[['attack_cat']].replace(to_replace=r'^.*Fuzzers.*$', value='Fuzzers', regex=True)\n",
    "data[['attack_cat']] = data[['attack_cat']].replace(to_replace=r'^.*Reconnaissance.*$', value='Reconnaissance', regex=True)\n",
    "data[['attack_cat']] = data[['attack_cat']].replace(to_replace=r'^.*Shellcode.*$', value='Shellcode', regex=True)\n",
    "data[['attack_cat']] = data[['attack_cat']].replace(to_replace=r'^.*Backdoor.*$', value='Backdoors', regex=True)"
   ]
  },
  {
   "cell_type": "code",
   "execution_count": 0,
   "metadata": {
    "colab": {
     "base_uri": "https://localhost:8080/",
     "height": 187
    },
    "colab_type": "code",
    "executionInfo": {
     "elapsed": 1056,
     "status": "ok",
     "timestamp": 1554648103031,
     "user": {
      "displayName": "Jozef Valko",
      "photoUrl": "https://lh4.googleusercontent.com/-rJdYS_jqK20/AAAAAAAAAAI/AAAAAAAAJ_I/XVZBkrJc6LU/s64/photo.jpg",
      "userId": "10599775509760039875"
     },
     "user_tz": -120
    },
    "id": "mZE2SSaOJGIJ",
    "outputId": "3de98711-7a72-4f21-ce04-aaf7d5e42767"
   },
   "outputs": [
    {
     "data": {
      "text/plain": [
       "Generic           215481\n",
       "Exploits           44525\n",
       "Fuzzers            24246\n",
       "DoS                16353\n",
       "Reconnaissance     13987\n",
       "Analysis            2677\n",
       "Backdoors           2329\n",
       "Shellcode           1511\n",
       "Worms                174\n",
       "Name: attack_cat, dtype: int64"
      ]
     },
     "execution_count": 96,
     "metadata": {
      "tags": []
     },
     "output_type": "execute_result"
    }
   ],
   "source": [
    "data['attack_cat'].value_counts()"
   ]
  },
  {
   "cell_type": "code",
   "execution_count": 0,
   "metadata": {
    "colab": {
     "base_uri": "https://localhost:8080/",
     "height": 51
    },
    "colab_type": "code",
    "executionInfo": {
     "elapsed": 1898,
     "status": "ok",
     "timestamp": 1554642403946,
     "user": {
      "displayName": "Jozef Valko",
      "photoUrl": "https://lh4.googleusercontent.com/-rJdYS_jqK20/AAAAAAAAAAI/AAAAAAAAJ_I/XVZBkrJc6LU/s64/photo.jpg",
      "userId": "10599775509760039875"
     },
     "user_tz": -120
    },
    "id": "6vTxNnGE52Da",
    "outputId": "f63e60e3-f328-4177-bbb7-15924af51f6b"
   },
   "outputs": [
    {
     "name": "stdout",
     "output_type": "stream",
     "text": [
      "(2218764, 49)\n",
      "(321283, 49)\n"
     ]
    }
   ],
   "source": [
    "normal_full = data.loc[data['Label'] == 0]\n",
    "attack_full = data.loc[data['Label'] == 1]\n",
    "print normal_full.shape\n",
    "print attack_full.shape"
   ]
  },
  {
   "cell_type": "code",
   "execution_count": 0,
   "metadata": {
    "colab": {
     "base_uri": "https://localhost:8080/",
     "height": 51
    },
    "colab_type": "code",
    "executionInfo": {
     "elapsed": 7335,
     "status": "ok",
     "timestamp": 1554642452806,
     "user": {
      "displayName": "Jozef Valko",
      "photoUrl": "https://lh4.googleusercontent.com/-rJdYS_jqK20/AAAAAAAAAAI/AAAAAAAAJ_I/XVZBkrJc6LU/s64/photo.jpg",
      "userId": "10599775509760039875"
     },
     "user_tz": -120
    },
    "id": "-6jcrp0D6M49",
    "outputId": "15149c99-61a6-44e6-df6d-04352b298f45"
   },
   "outputs": [
    {
     "name": "stdout",
     "output_type": "stream",
     "text": [
      "Train shape is: (1775011, 49) (257026, 49)\n",
      "Test shape is: (443753, 49) (64257, 49)\n"
     ]
    }
   ],
   "source": [
    "train_normal, test_normal = train_test_split(normal_full, test_size=0.2)\n",
    "train_attack, test_attack = train_test_split(attack_full, test_size=0.2)\n",
    "\n",
    "print 'Train shape is:', train_normal.shape, train_attack.shape\n",
    "print 'Test shape is:', test_normal.shape, test_attack.shape"
   ]
  },
  {
   "cell_type": "code",
   "execution_count": 0,
   "metadata": {
    "colab": {
     "base_uri": "https://localhost:8080/",
     "height": 34
    },
    "colab_type": "code",
    "executionInfo": {
     "elapsed": 2291,
     "status": "ok",
     "timestamp": 1554642478099,
     "user": {
      "displayName": "Jozef Valko",
      "photoUrl": "https://lh4.googleusercontent.com/-rJdYS_jqK20/AAAAAAAAAAI/AAAAAAAAJ_I/XVZBkrJc6LU/s64/photo.jpg",
      "userId": "10599775509760039875"
     },
     "user_tz": -120
    },
    "id": "zf-p5L9f6YGG",
    "outputId": "216a71c1-bfc8-4d55-871f-e8365af43979"
   },
   "outputs": [
    {
     "data": {
      "text/plain": [
       "(2032037, 49)"
      ]
     },
     "execution_count": 39,
     "metadata": {
      "tags": []
     },
     "output_type": "execute_result"
    }
   ],
   "source": [
    "train_all = pd.concat([train_normal, train_attack], ignore_index=True)\n",
    "train_all.shape"
   ]
  },
  {
   "cell_type": "code",
   "execution_count": 0,
   "metadata": {
    "colab": {
     "base_uri": "https://localhost:8080/",
     "height": 34
    },
    "colab_type": "code",
    "executionInfo": {
     "elapsed": 1105,
     "status": "ok",
     "timestamp": 1554642494150,
     "user": {
      "displayName": "Jozef Valko",
      "photoUrl": "https://lh4.googleusercontent.com/-rJdYS_jqK20/AAAAAAAAAAI/AAAAAAAAJ_I/XVZBkrJc6LU/s64/photo.jpg",
      "userId": "10599775509760039875"
     },
     "user_tz": -120
    },
    "id": "1i2KYoWF6dOy",
    "outputId": "0e24e524-287e-4cfe-f3c1-9633d456acae"
   },
   "outputs": [
    {
     "data": {
      "text/plain": [
       "(508010, 49)"
      ]
     },
     "execution_count": 40,
     "metadata": {
      "tags": []
     },
     "output_type": "execute_result"
    }
   ],
   "source": [
    "test_all = pd.concat([test_normal, test_attack], ignore_index=True)\n",
    "test_all.shape"
   ]
  },
  {
   "cell_type": "code",
   "execution_count": 0,
   "metadata": {
    "colab": {},
    "colab_type": "code",
    "id": "ISj6hxn-6fFS"
   },
   "outputs": [],
   "source": [
    "train_all.to_csv(path_or_buf='/content/drive/My Drive/FIIT STU/Ing/4. semester/Diplomový projekt 3/dataset/UNSW-NB15_full_training_set.csv', index=False)"
   ]
  },
  {
   "cell_type": "code",
   "execution_count": 0,
   "metadata": {
    "colab": {},
    "colab_type": "code",
    "id": "jTEwG13h7ieu"
   },
   "outputs": [],
   "source": [
    "test_all.to_csv(path_or_buf='/content/drive/My Drive/FIIT STU/Ing/4. semester/Diplomový projekt 3/dataset/UNSW-NB15_full_testing_set.csv', index=False)"
   ]
  },
  {
   "cell_type": "markdown",
   "metadata": {
    "colab_type": "text",
    "id": "HsAPtycKJrB7"
   },
   "source": [
    "# DNN binary classificator on all data"
   ]
  },
  {
   "cell_type": "markdown",
   "metadata": {
    "colab_type": "text",
    "id": "7ncyHkoM-srn"
   },
   "source": [
    "## Training"
   ]
  },
  {
   "cell_type": "markdown",
   "metadata": {
    "colab_type": "text",
    "id": "wqrH19YX9ZQn"
   },
   "source": [
    "### Loading training set"
   ]
  },
  {
   "cell_type": "code",
   "execution_count": 0,
   "metadata": {
    "colab": {},
    "colab_type": "code",
    "id": "itZmc6lH9EiB"
   },
   "outputs": [],
   "source": [
    "train = pd.read_csv('/content/drive/My Drive/FIIT STU/Ing/4. semester/Diplomový projekt 3/dataset/UNSW-NB15_full_training_set.csv')"
   ]
  },
  {
   "cell_type": "code",
   "execution_count": 0,
   "metadata": {
    "colab": {
     "base_uri": "https://localhost:8080/",
     "height": 224
    },
    "colab_type": "code",
    "executionInfo": {
     "elapsed": 9948,
     "status": "ok",
     "timestamp": 1555802382144,
     "user": {
      "displayName": "Jozef Valko",
      "photoUrl": "https://lh4.googleusercontent.com/-rJdYS_jqK20/AAAAAAAAAAI/AAAAAAAAJ_I/XVZBkrJc6LU/s64/photo.jpg",
      "userId": "10599775509760039875"
     },
     "user_tz": -120
    },
    "id": "RlNxcxaf9Uft",
    "outputId": "a1a64f6e-e886-42d7-c33e-bf783e744ab2"
   },
   "outputs": [
    {
     "data": {
      "text/html": [
       "<div>\n",
       "<style scoped>\n",
       "    .dataframe tbody tr th:only-of-type {\n",
       "        vertical-align: middle;\n",
       "    }\n",
       "\n",
       "    .dataframe tbody tr th {\n",
       "        vertical-align: top;\n",
       "    }\n",
       "\n",
       "    .dataframe thead th {\n",
       "        text-align: right;\n",
       "    }\n",
       "</style>\n",
       "<table border=\"1\" class=\"dataframe\">\n",
       "  <thead>\n",
       "    <tr style=\"text-align: right;\">\n",
       "      <th></th>\n",
       "      <th>srcip</th>\n",
       "      <th>sport</th>\n",
       "      <th>dstip</th>\n",
       "      <th>dsport</th>\n",
       "      <th>proto</th>\n",
       "      <th>state</th>\n",
       "      <th>dur</th>\n",
       "      <th>sbytes</th>\n",
       "      <th>dbytes</th>\n",
       "      <th>sttl</th>\n",
       "      <th>dttl</th>\n",
       "      <th>sloss</th>\n",
       "      <th>dloss</th>\n",
       "      <th>service</th>\n",
       "      <th>Sload</th>\n",
       "      <th>Dload</th>\n",
       "      <th>Spkts</th>\n",
       "      <th>Dpkts</th>\n",
       "      <th>swin</th>\n",
       "      <th>dwin</th>\n",
       "      <th>stcpb</th>\n",
       "      <th>dtcpb</th>\n",
       "      <th>smeansz</th>\n",
       "      <th>dmeansz</th>\n",
       "      <th>trans_depth</th>\n",
       "      <th>res_bdy_len</th>\n",
       "      <th>Sjit</th>\n",
       "      <th>Djit</th>\n",
       "      <th>Stime</th>\n",
       "      <th>Ltime</th>\n",
       "      <th>Sintpkt</th>\n",
       "      <th>Dintpkt</th>\n",
       "      <th>tcprtt</th>\n",
       "      <th>synack</th>\n",
       "      <th>ackdat</th>\n",
       "      <th>is_sm_ips_ports</th>\n",
       "      <th>ct_state_ttl</th>\n",
       "      <th>ct_flw_http_mthd</th>\n",
       "      <th>is_ftp_login</th>\n",
       "      <th>ct_ftp_cmd</th>\n",
       "      <th>ct_srv_src</th>\n",
       "      <th>ct_srv_dst</th>\n",
       "      <th>ct_dst_ltm</th>\n",
       "      <th>ct_src_ltm</th>\n",
       "      <th>ct_src_dport_ltm</th>\n",
       "      <th>ct_dst_sport_ltm</th>\n",
       "      <th>ct_dst_src_ltm</th>\n",
       "      <th>attack_cat</th>\n",
       "      <th>Label</th>\n",
       "    </tr>\n",
       "  </thead>\n",
       "  <tbody>\n",
       "    <tr>\n",
       "      <th>0</th>\n",
       "      <td>10.40.85.1</td>\n",
       "      <td>0</td>\n",
       "      <td>10.40.85.30</td>\n",
       "      <td>0</td>\n",
       "      <td>arp</td>\n",
       "      <td>CON</td>\n",
       "      <td>0.000000</td>\n",
       "      <td>56</td>\n",
       "      <td>92</td>\n",
       "      <td>0</td>\n",
       "      <td>0</td>\n",
       "      <td>0</td>\n",
       "      <td>0</td>\n",
       "      <td>-</td>\n",
       "      <td>5.37859</td>\n",
       "      <td>8.836254e+00</td>\n",
       "      <td>2</td>\n",
       "      <td>2</td>\n",
       "      <td>0</td>\n",
       "      <td>0</td>\n",
       "      <td>0</td>\n",
       "      <td>0</td>\n",
       "      <td>28</td>\n",
       "      <td>46</td>\n",
       "      <td>0</td>\n",
       "      <td>0</td>\n",
       "      <td>0.000000</td>\n",
       "      <td>12.906818</td>\n",
       "      <td>1421943415</td>\n",
       "      <td>1421943457</td>\n",
       "      <td>41646.464000</td>\n",
       "      <td>41646.488000</td>\n",
       "      <td>0.000000</td>\n",
       "      <td>0.000000</td>\n",
       "      <td>0.000000</td>\n",
       "      <td>0</td>\n",
       "      <td>0</td>\n",
       "      <td>0.0</td>\n",
       "      <td>0.0</td>\n",
       "      <td>0</td>\n",
       "      <td>2</td>\n",
       "      <td>2</td>\n",
       "      <td>2</td>\n",
       "      <td>2</td>\n",
       "      <td>2</td>\n",
       "      <td>2</td>\n",
       "      <td>2</td>\n",
       "      <td>NaN</td>\n",
       "      <td>0</td>\n",
       "    </tr>\n",
       "    <tr>\n",
       "      <th>1</th>\n",
       "      <td>59.166.0.9</td>\n",
       "      <td>6998</td>\n",
       "      <td>149.171.126.6</td>\n",
       "      <td>43544</td>\n",
       "      <td>tcp</td>\n",
       "      <td>FIN</td>\n",
       "      <td>0.035873</td>\n",
       "      <td>3286</td>\n",
       "      <td>39694</td>\n",
       "      <td>31</td>\n",
       "      <td>29</td>\n",
       "      <td>7</td>\n",
       "      <td>20</td>\n",
       "      <td>-</td>\n",
       "      <td>719426.87500</td>\n",
       "      <td>8.688206e+06</td>\n",
       "      <td>54</td>\n",
       "      <td>54</td>\n",
       "      <td>255</td>\n",
       "      <td>255</td>\n",
       "      <td>3582136067</td>\n",
       "      <td>1437064610</td>\n",
       "      <td>61</td>\n",
       "      <td>735</td>\n",
       "      <td>0</td>\n",
       "      <td>0</td>\n",
       "      <td>47.291200</td>\n",
       "      <td>1.193125</td>\n",
       "      <td>1424223659</td>\n",
       "      <td>1424223659</td>\n",
       "      <td>0.697275</td>\n",
       "      <td>0.665868</td>\n",
       "      <td>0.000700</td>\n",
       "      <td>0.000574</td>\n",
       "      <td>0.000126</td>\n",
       "      <td>0</td>\n",
       "      <td>0</td>\n",
       "      <td>NaN</td>\n",
       "      <td>NaN</td>\n",
       "      <td></td>\n",
       "      <td>4</td>\n",
       "      <td>1</td>\n",
       "      <td>2</td>\n",
       "      <td>3</td>\n",
       "      <td>1</td>\n",
       "      <td>1</td>\n",
       "      <td>1</td>\n",
       "      <td>NaN</td>\n",
       "      <td>0</td>\n",
       "    </tr>\n",
       "    <tr>\n",
       "      <th>2</th>\n",
       "      <td>59.166.0.8</td>\n",
       "      <td>10300</td>\n",
       "      <td>149.171.126.9</td>\n",
       "      <td>25</td>\n",
       "      <td>tcp</td>\n",
       "      <td>FIN</td>\n",
       "      <td>0.334843</td>\n",
       "      <td>37360</td>\n",
       "      <td>3276</td>\n",
       "      <td>31</td>\n",
       "      <td>29</td>\n",
       "      <td>18</td>\n",
       "      <td>8</td>\n",
       "      <td>smtp</td>\n",
       "      <td>875443.06250</td>\n",
       "      <td>7.633428e+04</td>\n",
       "      <td>52</td>\n",
       "      <td>40</td>\n",
       "      <td>255</td>\n",
       "      <td>255</td>\n",
       "      <td>1131454969</td>\n",
       "      <td>3277746617</td>\n",
       "      <td>718</td>\n",
       "      <td>82</td>\n",
       "      <td>0</td>\n",
       "      <td>0</td>\n",
       "      <td>785.417767</td>\n",
       "      <td>26.724514</td>\n",
       "      <td>1424260803</td>\n",
       "      <td>1424260803</td>\n",
       "      <td>6.826306</td>\n",
       "      <td>8.573667</td>\n",
       "      <td>0.000579</td>\n",
       "      <td>0.000467</td>\n",
       "      <td>0.000112</td>\n",
       "      <td>0</td>\n",
       "      <td>0</td>\n",
       "      <td>NaN</td>\n",
       "      <td>NaN</td>\n",
       "      <td></td>\n",
       "      <td>1</td>\n",
       "      <td>1</td>\n",
       "      <td>3</td>\n",
       "      <td>6</td>\n",
       "      <td>1</td>\n",
       "      <td>1</td>\n",
       "      <td>2</td>\n",
       "      <td>NaN</td>\n",
       "      <td>0</td>\n",
       "    </tr>\n",
       "    <tr>\n",
       "      <th>3</th>\n",
       "      <td>59.166.0.4</td>\n",
       "      <td>24838</td>\n",
       "      <td>149.171.126.7</td>\n",
       "      <td>6881</td>\n",
       "      <td>tcp</td>\n",
       "      <td>FIN</td>\n",
       "      <td>0.072701</td>\n",
       "      <td>3964</td>\n",
       "      <td>117444</td>\n",
       "      <td>31</td>\n",
       "      <td>29</td>\n",
       "      <td>8</td>\n",
       "      <td>45</td>\n",
       "      <td>-</td>\n",
       "      <td>428934.96880</td>\n",
       "      <td>1.280390e+07</td>\n",
       "      <td>60</td>\n",
       "      <td>108</td>\n",
       "      <td>255</td>\n",
       "      <td>255</td>\n",
       "      <td>3317783468</td>\n",
       "      <td>3325518932</td>\n",
       "      <td>66</td>\n",
       "      <td>1087</td>\n",
       "      <td>0</td>\n",
       "      <td>0</td>\n",
       "      <td>67.158138</td>\n",
       "      <td>45.403578</td>\n",
       "      <td>1421969325</td>\n",
       "      <td>1421969325</td>\n",
       "      <td>1.226746</td>\n",
       "      <td>0.674495</td>\n",
       "      <td>0.000660</td>\n",
       "      <td>0.000526</td>\n",
       "      <td>0.000134</td>\n",
       "      <td>0</td>\n",
       "      <td>0</td>\n",
       "      <td>0.0</td>\n",
       "      <td>0.0</td>\n",
       "      <td>0</td>\n",
       "      <td>3</td>\n",
       "      <td>2</td>\n",
       "      <td>3</td>\n",
       "      <td>4</td>\n",
       "      <td>2</td>\n",
       "      <td>1</td>\n",
       "      <td>3</td>\n",
       "      <td>NaN</td>\n",
       "      <td>0</td>\n",
       "    </tr>\n",
       "    <tr>\n",
       "      <th>4</th>\n",
       "      <td>59.166.0.8</td>\n",
       "      <td>38847</td>\n",
       "      <td>149.171.126.2</td>\n",
       "      <td>41383</td>\n",
       "      <td>tcp</td>\n",
       "      <td>FIN</td>\n",
       "      <td>0.044880</td>\n",
       "      <td>4862</td>\n",
       "      <td>82360</td>\n",
       "      <td>31</td>\n",
       "      <td>29</td>\n",
       "      <td>7</td>\n",
       "      <td>36</td>\n",
       "      <td>-</td>\n",
       "      <td>856506.25000</td>\n",
       "      <td>1.451034e+07</td>\n",
       "      <td>84</td>\n",
       "      <td>86</td>\n",
       "      <td>255</td>\n",
       "      <td>255</td>\n",
       "      <td>2580258570</td>\n",
       "      <td>2580547809</td>\n",
       "      <td>58</td>\n",
       "      <td>958</td>\n",
       "      <td>0</td>\n",
       "      <td>0</td>\n",
       "      <td>28.299558</td>\n",
       "      <td>28.534355</td>\n",
       "      <td>1424257720</td>\n",
       "      <td>1424257720</td>\n",
       "      <td>0.543549</td>\n",
       "      <td>0.539720</td>\n",
       "      <td>0.000736</td>\n",
       "      <td>0.000618</td>\n",
       "      <td>0.000118</td>\n",
       "      <td>0</td>\n",
       "      <td>0</td>\n",
       "      <td>NaN</td>\n",
       "      <td>NaN</td>\n",
       "      <td></td>\n",
       "      <td>6</td>\n",
       "      <td>6</td>\n",
       "      <td>5</td>\n",
       "      <td>3</td>\n",
       "      <td>1</td>\n",
       "      <td>1</td>\n",
       "      <td>1</td>\n",
       "      <td>NaN</td>\n",
       "      <td>0</td>\n",
       "    </tr>\n",
       "  </tbody>\n",
       "</table>\n",
       "</div>"
      ],
      "text/plain": [
       "        srcip  sport          dstip dsport proto state       dur  sbytes  \\\n",
       "0  10.40.85.1      0    10.40.85.30      0   arp   CON  0.000000      56   \n",
       "1  59.166.0.9   6998  149.171.126.6  43544   tcp   FIN  0.035873    3286   \n",
       "2  59.166.0.8  10300  149.171.126.9     25   tcp   FIN  0.334843   37360   \n",
       "3  59.166.0.4  24838  149.171.126.7   6881   tcp   FIN  0.072701    3964   \n",
       "4  59.166.0.8  38847  149.171.126.2  41383   tcp   FIN  0.044880    4862   \n",
       "\n",
       "   dbytes  sttl  dttl  sloss  dloss service         Sload         Dload  \\\n",
       "0      92     0     0      0      0       -       5.37859  8.836254e+00   \n",
       "1   39694    31    29      7     20       -  719426.87500  8.688206e+06   \n",
       "2    3276    31    29     18      8    smtp  875443.06250  7.633428e+04   \n",
       "3  117444    31    29      8     45       -  428934.96880  1.280390e+07   \n",
       "4   82360    31    29      7     36       -  856506.25000  1.451034e+07   \n",
       "\n",
       "   Spkts  Dpkts  swin  dwin       stcpb       dtcpb  smeansz  dmeansz  \\\n",
       "0      2      2     0     0           0           0       28       46   \n",
       "1     54     54   255   255  3582136067  1437064610       61      735   \n",
       "2     52     40   255   255  1131454969  3277746617      718       82   \n",
       "3     60    108   255   255  3317783468  3325518932       66     1087   \n",
       "4     84     86   255   255  2580258570  2580547809       58      958   \n",
       "\n",
       "   trans_depth  res_bdy_len        Sjit       Djit       Stime       Ltime  \\\n",
       "0            0            0    0.000000  12.906818  1421943415  1421943457   \n",
       "1            0            0   47.291200   1.193125  1424223659  1424223659   \n",
       "2            0            0  785.417767  26.724514  1424260803  1424260803   \n",
       "3            0            0   67.158138  45.403578  1421969325  1421969325   \n",
       "4            0            0   28.299558  28.534355  1424257720  1424257720   \n",
       "\n",
       "        Sintpkt       Dintpkt    tcprtt    synack    ackdat  is_sm_ips_ports  \\\n",
       "0  41646.464000  41646.488000  0.000000  0.000000  0.000000                0   \n",
       "1      0.697275      0.665868  0.000700  0.000574  0.000126                0   \n",
       "2      6.826306      8.573667  0.000579  0.000467  0.000112                0   \n",
       "3      1.226746      0.674495  0.000660  0.000526  0.000134                0   \n",
       "4      0.543549      0.539720  0.000736  0.000618  0.000118                0   \n",
       "\n",
       "   ct_state_ttl  ct_flw_http_mthd  is_ftp_login ct_ftp_cmd  ct_srv_src  \\\n",
       "0             0               0.0           0.0          0           2   \n",
       "1             0               NaN           NaN                      4   \n",
       "2             0               NaN           NaN                      1   \n",
       "3             0               0.0           0.0          0           3   \n",
       "4             0               NaN           NaN                      6   \n",
       "\n",
       "   ct_srv_dst  ct_dst_ltm  ct_src_ltm  ct_src_dport_ltm  ct_dst_sport_ltm  \\\n",
       "0           2           2           2                 2                 2   \n",
       "1           1           2           3                 1                 1   \n",
       "2           1           3           6                 1                 1   \n",
       "3           2           3           4                 2                 1   \n",
       "4           6           5           3                 1                 1   \n",
       "\n",
       "   ct_dst_src_ltm attack_cat  Label  \n",
       "0               2        NaN      0  \n",
       "1               1        NaN      0  \n",
       "2               2        NaN      0  \n",
       "3               3        NaN      0  \n",
       "4               1        NaN      0  "
      ]
     },
     "execution_count": 5,
     "metadata": {
      "tags": []
     },
     "output_type": "execute_result"
    }
   ],
   "source": [
    "train.head()"
   ]
  },
  {
   "cell_type": "markdown",
   "metadata": {
    "colab_type": "text",
    "id": "97jNXbUl3lbz"
   },
   "source": [
    "### Specification of columns for binary classification"
   ]
  },
  {
   "cell_type": "code",
   "execution_count": 0,
   "metadata": {
    "colab": {},
    "colab_type": "code",
    "id": "seqrPwRBvvHu"
   },
   "outputs": [],
   "source": [
    "columns = train[['Spkts','Dpkts','sbytes','dbytes','ct_srv_dst','ct_dst_ltm','Label']]\n",
    "#columns = train[['spkts','dpkts','sbytes','dbytes','ct_srv_src','ct_srv_dst','ct_dst_ltm','ct_src_ltm','ct_src_dport_ltm','ct_dst_sport_ltm','ct_dst_src_ltm']]\n",
    "protos = train[['proto']]"
   ]
  },
  {
   "cell_type": "code",
   "execution_count": 0,
   "metadata": {
    "colab": {
     "base_uri": "https://localhost:8080/",
     "height": 204
    },
    "colab_type": "code",
    "executionInfo": {
     "elapsed": 722,
     "status": "ok",
     "timestamp": 1555802398428,
     "user": {
      "displayName": "Jozef Valko",
      "photoUrl": "https://lh4.googleusercontent.com/-rJdYS_jqK20/AAAAAAAAAAI/AAAAAAAAJ_I/XVZBkrJc6LU/s64/photo.jpg",
      "userId": "10599775509760039875"
     },
     "user_tz": -120
    },
    "id": "CX15Bnr2JYvf",
    "outputId": "4731f243-14e9-47d5-a06d-344ba1f5858e"
   },
   "outputs": [
    {
     "data": {
      "text/html": [
       "<div>\n",
       "<style scoped>\n",
       "    .dataframe tbody tr th:only-of-type {\n",
       "        vertical-align: middle;\n",
       "    }\n",
       "\n",
       "    .dataframe tbody tr th {\n",
       "        vertical-align: top;\n",
       "    }\n",
       "\n",
       "    .dataframe thead th {\n",
       "        text-align: right;\n",
       "    }\n",
       "</style>\n",
       "<table border=\"1\" class=\"dataframe\">\n",
       "  <thead>\n",
       "    <tr style=\"text-align: right;\">\n",
       "      <th></th>\n",
       "      <th>Spkts</th>\n",
       "      <th>Dpkts</th>\n",
       "      <th>sbytes</th>\n",
       "      <th>dbytes</th>\n",
       "      <th>ct_srv_dst</th>\n",
       "      <th>ct_dst_ltm</th>\n",
       "      <th>Label</th>\n",
       "    </tr>\n",
       "  </thead>\n",
       "  <tbody>\n",
       "    <tr>\n",
       "      <th>0</th>\n",
       "      <td>2</td>\n",
       "      <td>2</td>\n",
       "      <td>56</td>\n",
       "      <td>92</td>\n",
       "      <td>2</td>\n",
       "      <td>2</td>\n",
       "      <td>0</td>\n",
       "    </tr>\n",
       "    <tr>\n",
       "      <th>1</th>\n",
       "      <td>54</td>\n",
       "      <td>54</td>\n",
       "      <td>3286</td>\n",
       "      <td>39694</td>\n",
       "      <td>1</td>\n",
       "      <td>2</td>\n",
       "      <td>0</td>\n",
       "    </tr>\n",
       "    <tr>\n",
       "      <th>2</th>\n",
       "      <td>52</td>\n",
       "      <td>40</td>\n",
       "      <td>37360</td>\n",
       "      <td>3276</td>\n",
       "      <td>1</td>\n",
       "      <td>3</td>\n",
       "      <td>0</td>\n",
       "    </tr>\n",
       "    <tr>\n",
       "      <th>3</th>\n",
       "      <td>60</td>\n",
       "      <td>108</td>\n",
       "      <td>3964</td>\n",
       "      <td>117444</td>\n",
       "      <td>2</td>\n",
       "      <td>3</td>\n",
       "      <td>0</td>\n",
       "    </tr>\n",
       "    <tr>\n",
       "      <th>4</th>\n",
       "      <td>84</td>\n",
       "      <td>86</td>\n",
       "      <td>4862</td>\n",
       "      <td>82360</td>\n",
       "      <td>6</td>\n",
       "      <td>5</td>\n",
       "      <td>0</td>\n",
       "    </tr>\n",
       "  </tbody>\n",
       "</table>\n",
       "</div>"
      ],
      "text/plain": [
       "   Spkts  Dpkts  sbytes  dbytes  ct_srv_dst  ct_dst_ltm  Label\n",
       "0      2      2      56      92           2           2      0\n",
       "1     54     54    3286   39694           1           2      0\n",
       "2     52     40   37360    3276           1           3      0\n",
       "3     60    108    3964  117444           2           3      0\n",
       "4     84     86    4862   82360           6           5      0"
      ]
     },
     "execution_count": 7,
     "metadata": {
      "tags": []
     },
     "output_type": "execute_result"
    }
   ],
   "source": [
    "columns.head()"
   ]
  },
  {
   "cell_type": "markdown",
   "metadata": {
    "colab_type": "text",
    "id": "jVYMlGL5KXMy"
   },
   "source": [
    "We will use only protocols from Normal traffic for one-hot-encoding.\n",
    "\n",
    "Others are replaced with string 'other' and have one separate column in DataFrame."
   ]
  },
  {
   "cell_type": "code",
   "execution_count": 0,
   "metadata": {
    "colab": {
     "base_uri": "https://localhost:8080/",
     "height": 173
    },
    "colab_type": "code",
    "executionInfo": {
     "elapsed": 2672,
     "status": "ok",
     "timestamp": 1555802400408,
     "user": {
      "displayName": "Jozef Valko",
      "photoUrl": "https://lh4.googleusercontent.com/-rJdYS_jqK20/AAAAAAAAAAI/AAAAAAAAJ_I/XVZBkrJc6LU/s64/photo.jpg",
      "userId": "10599775509760039875"
     },
     "user_tz": -120
    },
    "id": "xSlJiJ2v6r2R",
    "outputId": "9b69eca9-d652-435e-b6e5-aef601ca472d"
   },
   "outputs": [
    {
     "data": {
      "text/html": [
       "<div>\n",
       "<style scoped>\n",
       "    .dataframe tbody tr th:only-of-type {\n",
       "        vertical-align: middle;\n",
       "    }\n",
       "\n",
       "    .dataframe tbody tr th {\n",
       "        vertical-align: top;\n",
       "    }\n",
       "\n",
       "    .dataframe thead th {\n",
       "        text-align: right;\n",
       "    }\n",
       "</style>\n",
       "<table border=\"1\" class=\"dataframe\">\n",
       "  <thead>\n",
       "    <tr style=\"text-align: right;\">\n",
       "      <th></th>\n",
       "      <th>proto</th>\n",
       "    </tr>\n",
       "  </thead>\n",
       "  <tbody>\n",
       "    <tr>\n",
       "      <th>count</th>\n",
       "      <td>2032037</td>\n",
       "    </tr>\n",
       "    <tr>\n",
       "      <th>unique</th>\n",
       "      <td>7</td>\n",
       "    </tr>\n",
       "    <tr>\n",
       "      <th>top</th>\n",
       "      <td>tcp</td>\n",
       "    </tr>\n",
       "    <tr>\n",
       "      <th>freq</th>\n",
       "      <td>1196255</td>\n",
       "    </tr>\n",
       "  </tbody>\n",
       "</table>\n",
       "</div>"
      ],
      "text/plain": [
       "          proto\n",
       "count   2032037\n",
       "unique        7\n",
       "top         tcp\n",
       "freq    1196255"
      ]
     },
     "execution_count": 8,
     "metadata": {
      "tags": []
     },
     "output_type": "execute_result"
    }
   ],
   "source": [
    "regex = r'^(?!(\\btcp\\b|\\budp\\b|\\barp\\b|\\bospf\\b|\\bicmp\\b|\\bigmp\\b)).*$'\n",
    "protos = protos.replace(to_replace=regex, value='other', regex=True)\n",
    "protos.describe()"
   ]
  },
  {
   "cell_type": "code",
   "execution_count": 0,
   "metadata": {
    "colab": {
     "base_uri": "https://localhost:8080/",
     "height": 224
    },
    "colab_type": "code",
    "executionInfo": {
     "elapsed": 2634,
     "status": "ok",
     "timestamp": 1555802400411,
     "user": {
      "displayName": "Jozef Valko",
      "photoUrl": "https://lh4.googleusercontent.com/-rJdYS_jqK20/AAAAAAAAAAI/AAAAAAAAJ_I/XVZBkrJc6LU/s64/photo.jpg",
      "userId": "10599775509760039875"
     },
     "user_tz": -120
    },
    "id": "j_RUilBkJjxG",
    "outputId": "449debc7-5409-4ff4-b0fc-d57dc8a2f9c6"
   },
   "outputs": [
    {
     "data": {
      "text/html": [
       "<div>\n",
       "<style scoped>\n",
       "    .dataframe tbody tr th:only-of-type {\n",
       "        vertical-align: middle;\n",
       "    }\n",
       "\n",
       "    .dataframe tbody tr th {\n",
       "        vertical-align: top;\n",
       "    }\n",
       "\n",
       "    .dataframe thead th {\n",
       "        text-align: right;\n",
       "    }\n",
       "</style>\n",
       "<table border=\"1\" class=\"dataframe\">\n",
       "  <thead>\n",
       "    <tr style=\"text-align: right;\">\n",
       "      <th></th>\n",
       "      <th>Spkts</th>\n",
       "      <th>Dpkts</th>\n",
       "      <th>sbytes</th>\n",
       "      <th>dbytes</th>\n",
       "      <th>ct_srv_dst</th>\n",
       "      <th>ct_dst_ltm</th>\n",
       "      <th>Label</th>\n",
       "      <th>proto_arp</th>\n",
       "      <th>proto_icmp</th>\n",
       "      <th>proto_igmp</th>\n",
       "      <th>proto_ospf</th>\n",
       "      <th>proto_other</th>\n",
       "      <th>proto_tcp</th>\n",
       "      <th>proto_udp</th>\n",
       "    </tr>\n",
       "  </thead>\n",
       "  <tbody>\n",
       "    <tr>\n",
       "      <th>0</th>\n",
       "      <td>2</td>\n",
       "      <td>2</td>\n",
       "      <td>56</td>\n",
       "      <td>92</td>\n",
       "      <td>2</td>\n",
       "      <td>2</td>\n",
       "      <td>0</td>\n",
       "      <td>1</td>\n",
       "      <td>0</td>\n",
       "      <td>0</td>\n",
       "      <td>0</td>\n",
       "      <td>0</td>\n",
       "      <td>0</td>\n",
       "      <td>0</td>\n",
       "    </tr>\n",
       "    <tr>\n",
       "      <th>1</th>\n",
       "      <td>54</td>\n",
       "      <td>54</td>\n",
       "      <td>3286</td>\n",
       "      <td>39694</td>\n",
       "      <td>1</td>\n",
       "      <td>2</td>\n",
       "      <td>0</td>\n",
       "      <td>0</td>\n",
       "      <td>0</td>\n",
       "      <td>0</td>\n",
       "      <td>0</td>\n",
       "      <td>0</td>\n",
       "      <td>1</td>\n",
       "      <td>0</td>\n",
       "    </tr>\n",
       "    <tr>\n",
       "      <th>2</th>\n",
       "      <td>52</td>\n",
       "      <td>40</td>\n",
       "      <td>37360</td>\n",
       "      <td>3276</td>\n",
       "      <td>1</td>\n",
       "      <td>3</td>\n",
       "      <td>0</td>\n",
       "      <td>0</td>\n",
       "      <td>0</td>\n",
       "      <td>0</td>\n",
       "      <td>0</td>\n",
       "      <td>0</td>\n",
       "      <td>1</td>\n",
       "      <td>0</td>\n",
       "    </tr>\n",
       "    <tr>\n",
       "      <th>3</th>\n",
       "      <td>60</td>\n",
       "      <td>108</td>\n",
       "      <td>3964</td>\n",
       "      <td>117444</td>\n",
       "      <td>2</td>\n",
       "      <td>3</td>\n",
       "      <td>0</td>\n",
       "      <td>0</td>\n",
       "      <td>0</td>\n",
       "      <td>0</td>\n",
       "      <td>0</td>\n",
       "      <td>0</td>\n",
       "      <td>1</td>\n",
       "      <td>0</td>\n",
       "    </tr>\n",
       "    <tr>\n",
       "      <th>4</th>\n",
       "      <td>84</td>\n",
       "      <td>86</td>\n",
       "      <td>4862</td>\n",
       "      <td>82360</td>\n",
       "      <td>6</td>\n",
       "      <td>5</td>\n",
       "      <td>0</td>\n",
       "      <td>0</td>\n",
       "      <td>0</td>\n",
       "      <td>0</td>\n",
       "      <td>0</td>\n",
       "      <td>0</td>\n",
       "      <td>1</td>\n",
       "      <td>0</td>\n",
       "    </tr>\n",
       "  </tbody>\n",
       "</table>\n",
       "</div>"
      ],
      "text/plain": [
       "   Spkts  Dpkts  sbytes  dbytes  ct_srv_dst  ct_dst_ltm  Label  proto_arp  \\\n",
       "0      2      2      56      92           2           2      0          1   \n",
       "1     54     54    3286   39694           1           2      0          0   \n",
       "2     52     40   37360    3276           1           3      0          0   \n",
       "3     60    108    3964  117444           2           3      0          0   \n",
       "4     84     86    4862   82360           6           5      0          0   \n",
       "\n",
       "   proto_icmp  proto_igmp  proto_ospf  proto_other  proto_tcp  proto_udp  \n",
       "0           0           0           0            0          0          0  \n",
       "1           0           0           0            0          1          0  \n",
       "2           0           0           0            0          1          0  \n",
       "3           0           0           0            0          1          0  \n",
       "4           0           0           0            0          1          0  "
      ]
     },
     "execution_count": 9,
     "metadata": {
      "tags": []
     },
     "output_type": "execute_result"
    }
   ],
   "source": [
    "dummies = pd.get_dummies(protos)\n",
    "samples = pd.concat([columns, dummies], axis=1)\n",
    "samples.head()"
   ]
  },
  {
   "cell_type": "markdown",
   "metadata": {
    "colab_type": "text",
    "id": "i34LIAoC-eHJ"
   },
   "source": [
    "### Splitting data to input samples and output labels"
   ]
  },
  {
   "cell_type": "code",
   "execution_count": 0,
   "metadata": {
    "colab": {},
    "colab_type": "code",
    "id": "RcWGrwArL9BU"
   },
   "outputs": [],
   "source": [
    "train_samples = samples.drop(columns=['Label'])\n",
    "train_labels = samples[['Label']]"
   ]
  },
  {
   "cell_type": "code",
   "execution_count": 0,
   "metadata": {
    "colab": {
     "base_uri": "https://localhost:8080/",
     "height": 224
    },
    "colab_type": "code",
    "executionInfo": {
     "elapsed": 587,
     "status": "ok",
     "timestamp": 1555802407018,
     "user": {
      "displayName": "Jozef Valko",
      "photoUrl": "https://lh4.googleusercontent.com/-rJdYS_jqK20/AAAAAAAAAAI/AAAAAAAAJ_I/XVZBkrJc6LU/s64/photo.jpg",
      "userId": "10599775509760039875"
     },
     "user_tz": -120
    },
    "id": "9sZvajaovzRS",
    "outputId": "f71a828a-a8b5-49e9-b051-4d49e73f043e"
   },
   "outputs": [
    {
     "data": {
      "text/html": [
       "<div>\n",
       "<style scoped>\n",
       "    .dataframe tbody tr th:only-of-type {\n",
       "        vertical-align: middle;\n",
       "    }\n",
       "\n",
       "    .dataframe tbody tr th {\n",
       "        vertical-align: top;\n",
       "    }\n",
       "\n",
       "    .dataframe thead th {\n",
       "        text-align: right;\n",
       "    }\n",
       "</style>\n",
       "<table border=\"1\" class=\"dataframe\">\n",
       "  <thead>\n",
       "    <tr style=\"text-align: right;\">\n",
       "      <th></th>\n",
       "      <th>Spkts</th>\n",
       "      <th>Dpkts</th>\n",
       "      <th>sbytes</th>\n",
       "      <th>dbytes</th>\n",
       "      <th>ct_srv_dst</th>\n",
       "      <th>ct_dst_ltm</th>\n",
       "      <th>proto_arp</th>\n",
       "      <th>proto_icmp</th>\n",
       "      <th>proto_igmp</th>\n",
       "      <th>proto_ospf</th>\n",
       "      <th>proto_other</th>\n",
       "      <th>proto_tcp</th>\n",
       "      <th>proto_udp</th>\n",
       "    </tr>\n",
       "  </thead>\n",
       "  <tbody>\n",
       "    <tr>\n",
       "      <th>0</th>\n",
       "      <td>2</td>\n",
       "      <td>2</td>\n",
       "      <td>56</td>\n",
       "      <td>92</td>\n",
       "      <td>2</td>\n",
       "      <td>2</td>\n",
       "      <td>1</td>\n",
       "      <td>0</td>\n",
       "      <td>0</td>\n",
       "      <td>0</td>\n",
       "      <td>0</td>\n",
       "      <td>0</td>\n",
       "      <td>0</td>\n",
       "    </tr>\n",
       "    <tr>\n",
       "      <th>1</th>\n",
       "      <td>54</td>\n",
       "      <td>54</td>\n",
       "      <td>3286</td>\n",
       "      <td>39694</td>\n",
       "      <td>1</td>\n",
       "      <td>2</td>\n",
       "      <td>0</td>\n",
       "      <td>0</td>\n",
       "      <td>0</td>\n",
       "      <td>0</td>\n",
       "      <td>0</td>\n",
       "      <td>1</td>\n",
       "      <td>0</td>\n",
       "    </tr>\n",
       "    <tr>\n",
       "      <th>2</th>\n",
       "      <td>52</td>\n",
       "      <td>40</td>\n",
       "      <td>37360</td>\n",
       "      <td>3276</td>\n",
       "      <td>1</td>\n",
       "      <td>3</td>\n",
       "      <td>0</td>\n",
       "      <td>0</td>\n",
       "      <td>0</td>\n",
       "      <td>0</td>\n",
       "      <td>0</td>\n",
       "      <td>1</td>\n",
       "      <td>0</td>\n",
       "    </tr>\n",
       "    <tr>\n",
       "      <th>3</th>\n",
       "      <td>60</td>\n",
       "      <td>108</td>\n",
       "      <td>3964</td>\n",
       "      <td>117444</td>\n",
       "      <td>2</td>\n",
       "      <td>3</td>\n",
       "      <td>0</td>\n",
       "      <td>0</td>\n",
       "      <td>0</td>\n",
       "      <td>0</td>\n",
       "      <td>0</td>\n",
       "      <td>1</td>\n",
       "      <td>0</td>\n",
       "    </tr>\n",
       "    <tr>\n",
       "      <th>4</th>\n",
       "      <td>84</td>\n",
       "      <td>86</td>\n",
       "      <td>4862</td>\n",
       "      <td>82360</td>\n",
       "      <td>6</td>\n",
       "      <td>5</td>\n",
       "      <td>0</td>\n",
       "      <td>0</td>\n",
       "      <td>0</td>\n",
       "      <td>0</td>\n",
       "      <td>0</td>\n",
       "      <td>1</td>\n",
       "      <td>0</td>\n",
       "    </tr>\n",
       "  </tbody>\n",
       "</table>\n",
       "</div>"
      ],
      "text/plain": [
       "   Spkts  Dpkts  sbytes  dbytes  ct_srv_dst  ct_dst_ltm  proto_arp  \\\n",
       "0      2      2      56      92           2           2          1   \n",
       "1     54     54    3286   39694           1           2          0   \n",
       "2     52     40   37360    3276           1           3          0   \n",
       "3     60    108    3964  117444           2           3          0   \n",
       "4     84     86    4862   82360           6           5          0   \n",
       "\n",
       "   proto_icmp  proto_igmp  proto_ospf  proto_other  proto_tcp  proto_udp  \n",
       "0           0           0           0            0          0          0  \n",
       "1           0           0           0            0          1          0  \n",
       "2           0           0           0            0          1          0  \n",
       "3           0           0           0            0          1          0  \n",
       "4           0           0           0            0          1          0  "
      ]
     },
     "execution_count": 11,
     "metadata": {
      "tags": []
     },
     "output_type": "execute_result"
    }
   ],
   "source": [
    "train_samples.head()"
   ]
  },
  {
   "cell_type": "code",
   "execution_count": 0,
   "metadata": {
    "colab": {
     "base_uri": "https://localhost:8080/",
     "height": 68
    },
    "colab_type": "code",
    "executionInfo": {
     "elapsed": 751,
     "status": "ok",
     "timestamp": 1555802411784,
     "user": {
      "displayName": "Jozef Valko",
      "photoUrl": "https://lh4.googleusercontent.com/-rJdYS_jqK20/AAAAAAAAAAI/AAAAAAAAJ_I/XVZBkrJc6LU/s64/photo.jpg",
      "userId": "10599775509760039875"
     },
     "user_tz": -120
    },
    "id": "knDBbqEPDpEB",
    "outputId": "a370a69f-b997-42ff-f936-715e74d35338"
   },
   "outputs": [
    {
     "name": "stdout",
     "output_type": "stream",
     "text": [
      "Train set:\n",
      "(2032037, 13)\n",
      "(2032037, 1)\n"
     ]
    }
   ],
   "source": [
    "print 'Train set:'\n",
    "print train_samples.shape\n",
    "print train_labels.shape"
   ]
  },
  {
   "cell_type": "markdown",
   "metadata": {
    "colab_type": "text",
    "id": "wU1wP2mnI_uc"
   },
   "source": [
    "### MinMaxScaler\n",
    "feature range (0,1)\n"
   ]
  },
  {
   "cell_type": "code",
   "execution_count": 0,
   "metadata": {
    "colab": {
     "base_uri": "https://localhost:8080/",
     "height": 105
    },
    "colab_type": "code",
    "executionInfo": {
     "elapsed": 1415,
     "status": "ok",
     "timestamp": 1555802420268,
     "user": {
      "displayName": "Jozef Valko",
      "photoUrl": "https://lh4.googleusercontent.com/-rJdYS_jqK20/AAAAAAAAAAI/AAAAAAAAJ_I/XVZBkrJc6LU/s64/photo.jpg",
      "userId": "10599775509760039875"
     },
     "user_tz": -120
    },
    "id": "I5C6xJuav5CJ",
    "outputId": "bd52c2d4-bd90-42a7-86f3-8884d78ed0af"
   },
   "outputs": [
    {
     "name": "stderr",
     "output_type": "stream",
     "text": [
      "/usr/local/lib/python2.7/dist-packages/sklearn/preprocessing/data.py:334: DataConversionWarning: Data with input dtype uint8, int64 were all converted to float64 by MinMaxScaler.\n",
      "  return self.partial_fit(X, y)\n"
     ]
    },
    {
     "name": "stdout",
     "output_type": "stream",
     "text": [
      "(2032037, 13)\n",
      "(2032037, 1)\n"
     ]
    }
   ],
   "source": [
    "scaler = MinMaxScaler(feature_range=(0,1))\n",
    "scaled_train_samples = scaler.fit_transform(train_samples)\n",
    "scaled_train_labels = np.array(train_labels)\n",
    "print scaled_train_samples.shape\n",
    "print scaled_train_labels.shape"
   ]
  },
  {
   "cell_type": "markdown",
   "metadata": {
    "colab_type": "text",
    "id": "ed2_kyU6LZ6Z"
   },
   "source": [
    "### StandardScaler"
   ]
  },
  {
   "cell_type": "code",
   "execution_count": 0,
   "metadata": {
    "colab": {
     "base_uri": "https://localhost:8080/",
     "height": 139
    },
    "colab_type": "code",
    "executionInfo": {
     "elapsed": 1807,
     "status": "ok",
     "timestamp": 1555803092700,
     "user": {
      "displayName": "Jozef Valko",
      "photoUrl": "https://lh4.googleusercontent.com/-rJdYS_jqK20/AAAAAAAAAAI/AAAAAAAAJ_I/XVZBkrJc6LU/s64/photo.jpg",
      "userId": "10599775509760039875"
     },
     "user_tz": -120
    },
    "id": "5X3w2qs5LZUZ",
    "outputId": "4f075721-ec7e-4606-de95-c93ebabf0748"
   },
   "outputs": [
    {
     "name": "stderr",
     "output_type": "stream",
     "text": [
      "/usr/local/lib/python2.7/dist-packages/sklearn/preprocessing/data.py:645: DataConversionWarning: Data with input dtype uint8, int64 were all converted to float64 by StandardScaler.\n",
      "  return self.partial_fit(X, y)\n"
     ]
    },
    {
     "name": "stdout",
     "output_type": "stream",
     "text": [
      "(2032037, 13)\n",
      "(2032037, 1)\n"
     ]
    },
    {
     "name": "stderr",
     "output_type": "stream",
     "text": [
      "/usr/local/lib/python2.7/dist-packages/sklearn/base.py:464: DataConversionWarning: Data with input dtype uint8, int64 were all converted to float64 by StandardScaler.\n",
      "  return self.fit(X, **fit_params).transform(X)\n"
     ]
    }
   ],
   "source": [
    "scaler = StandardScaler()\n",
    "scaled_train_samples = scaler.fit_transform(train_samples)\n",
    "scaled_train_labels = np.array(train_labels)\n",
    "print scaled_train_samples.shape\n",
    "print scaled_train_labels.shape"
   ]
  },
  {
   "cell_type": "markdown",
   "metadata": {
    "colab_type": "text",
    "id": "XizNNYNCMvdx"
   },
   "source": [
    "### DNN model - 13, 32, 16, 1 with StandardScaler\n",
    "learning_rate = 0.001\n",
    "\n",
    "epochs = 15\n",
    "\n",
    "batch_size = 1000\n",
    "\n",
    "dropout = 0.2"
   ]
  },
  {
   "cell_type": "code",
   "execution_count": 0,
   "metadata": {
    "colab": {
     "base_uri": "https://localhost:8080/",
     "height": 833
    },
    "colab_type": "code",
    "executionInfo": {
     "elapsed": 97287,
     "status": "ok",
     "timestamp": 1555803199634,
     "user": {
      "displayName": "Jozef Valko",
      "photoUrl": "https://lh4.googleusercontent.com/-rJdYS_jqK20/AAAAAAAAAAI/AAAAAAAAJ_I/XVZBkrJc6LU/s64/photo.jpg",
      "userId": "10599775509760039875"
     },
     "user_tz": -120
    },
    "id": "NT4o3hOcLY5X",
    "outputId": "aaa1481a-95d7-4565-ac01-196a1e91f743"
   },
   "outputs": [
    {
     "name": "stdout",
     "output_type": "stream",
     "text": [
      "_________________________________________________________________\n",
      "Layer (type)                 Output Shape              Param #   \n",
      "=================================================================\n",
      "dense_4 (Dense)              (None, 32)                448       \n",
      "_________________________________________________________________\n",
      "dropout_3 (Dropout)          (None, 32)                0         \n",
      "_________________________________________________________________\n",
      "dense_5 (Dense)              (None, 16)                528       \n",
      "_________________________________________________________________\n",
      "dropout_4 (Dropout)          (None, 16)                0         \n",
      "_________________________________________________________________\n",
      "dense_6 (Dense)              (None, 1)                 17        \n",
      "=================================================================\n",
      "Total params: 993\n",
      "Trainable params: 993\n",
      "Non-trainable params: 0\n",
      "_________________________________________________________________\n",
      "Epoch 1/15\n",
      " - 7s - loss: 0.2377 - acc: 0.8861\n",
      "Epoch 2/15\n",
      " - 6s - loss: 0.2064 - acc: 0.8942\n",
      "Epoch 3/15\n",
      " - 6s - loss: 0.1969 - acc: 0.8972\n",
      "Epoch 4/15\n",
      " - 6s - loss: 0.1844 - acc: 0.9005\n",
      "Epoch 5/15\n",
      " - 6s - loss: 0.1716 - acc: 0.9038\n",
      "Epoch 6/15\n",
      " - 6s - loss: 0.1652 - acc: 0.9066\n",
      "Epoch 7/15\n",
      " - 6s - loss: 0.1616 - acc: 0.9099\n",
      "Epoch 8/15\n",
      " - 6s - loss: 0.1581 - acc: 0.9140\n",
      "Epoch 9/15\n",
      " - 6s - loss: 0.1469 - acc: 0.9308\n",
      "Epoch 10/15\n",
      " - 6s - loss: 0.1295 - acc: 0.9497\n",
      "Epoch 11/15\n",
      " - 6s - loss: 0.1147 - acc: 0.9575\n",
      "Epoch 12/15\n",
      " - 6s - loss: 0.1034 - acc: 0.9626\n",
      "Epoch 13/15\n",
      " - 6s - loss: 0.0936 - acc: 0.9669\n",
      "Epoch 14/15\n",
      " - 6s - loss: 0.0813 - acc: 0.9721\n",
      "Epoch 15/15\n",
      " - 6s - loss: 0.0727 - acc: 0.9749\n"
     ]
    },
    {
     "data": {
      "text/plain": [
       "<keras.callbacks.History at 0x7f1732d35450>"
      ]
     },
     "execution_count": 26,
     "metadata": {
      "tags": []
     },
     "output_type": "execute_result"
    }
   ],
   "source": [
    "def create_model():\n",
    "    #create a model\n",
    "    model = Sequential()\n",
    "    model.add(Dense(32, input_dim=13, activation='relu'))\n",
    "    model.add(Dropout(0.2))\n",
    "    model.add(Dense(16, activation='relu'))\n",
    "    model.add(Dropout(0.2))\n",
    "    model.add(Dense(1, activation='sigmoid'))\n",
    "    return model\n",
    "  \n",
    "seed = 7\n",
    "np.random.seed(seed)\n",
    "epochs = 15\n",
    "batch_size = 1000\n",
    "\n",
    "model = create_model()\n",
    "model.compile(Adam(lr=0.001), loss='binary_crossentropy', metrics=['accuracy'])\n",
    "model.summary()\n",
    "model.fit(scaled_train_samples, scaled_train_labels, batch_size=batch_size, epochs=epochs, shuffle=True, verbose=2)"
   ]
  },
  {
   "cell_type": "markdown",
   "metadata": {
    "colab_type": "text",
    "id": "Y-nj1epPEFd-"
   },
   "source": [
    "### DNN model - 16, 32, 16, 1 with MinMaxScaler\n",
    "learning_rate = 0.001\n",
    "\n",
    "epochs = 15\n",
    "\n",
    "batch_size = 1000\n",
    "\n",
    "dropout = 0.2"
   ]
  },
  {
   "cell_type": "code",
   "execution_count": 0,
   "metadata": {
    "colab": {
     "base_uri": "https://localhost:8080/",
     "height": 1006
    },
    "colab_type": "code",
    "executionInfo": {
     "elapsed": 96964,
     "status": "ok",
     "timestamp": 1555802570167,
     "user": {
      "displayName": "Jozef Valko",
      "photoUrl": "https://lh4.googleusercontent.com/-rJdYS_jqK20/AAAAAAAAAAI/AAAAAAAAJ_I/XVZBkrJc6LU/s64/photo.jpg",
      "userId": "10599775509760039875"
     },
     "user_tz": -120
    },
    "id": "qMpO7SFaEFd_",
    "outputId": "ec3a6734-c8a2-4deb-d2cd-60cdba4bdcff"
   },
   "outputs": [
    {
     "name": "stdout",
     "output_type": "stream",
     "text": [
      "WARNING:tensorflow:From /usr/local/lib/python2.7/dist-packages/tensorflow/python/framework/op_def_library.py:263: colocate_with (from tensorflow.python.framework.ops) is deprecated and will be removed in a future version.\n",
      "Instructions for updating:\n",
      "Colocations handled automatically by placer.\n",
      "WARNING:tensorflow:From /usr/local/lib/python2.7/dist-packages/keras/backend/tensorflow_backend.py:3445: calling dropout (from tensorflow.python.ops.nn_ops) with keep_prob is deprecated and will be removed in a future version.\n",
      "Instructions for updating:\n",
      "Please use `rate` instead of `keep_prob`. Rate should be set to `rate = 1 - keep_prob`.\n",
      "_________________________________________________________________\n",
      "Layer (type)                 Output Shape              Param #   \n",
      "=================================================================\n",
      "dense_1 (Dense)              (None, 32)                448       \n",
      "_________________________________________________________________\n",
      "dropout_1 (Dropout)          (None, 32)                0         \n",
      "_________________________________________________________________\n",
      "dense_2 (Dense)              (None, 16)                528       \n",
      "_________________________________________________________________\n",
      "dropout_2 (Dropout)          (None, 16)                0         \n",
      "_________________________________________________________________\n",
      "dense_3 (Dense)              (None, 1)                 17        \n",
      "=================================================================\n",
      "Total params: 993\n",
      "Trainable params: 993\n",
      "Non-trainable params: 0\n",
      "_________________________________________________________________\n",
      "WARNING:tensorflow:From /usr/local/lib/python2.7/dist-packages/tensorflow/python/ops/math_ops.py:3066: to_int32 (from tensorflow.python.ops.math_ops) is deprecated and will be removed in a future version.\n",
      "Instructions for updating:\n",
      "Use tf.cast instead.\n",
      "Epoch 1/15\n",
      " - 7s - loss: 0.2627 - acc: 0.8855\n",
      "Epoch 2/15\n",
      " - 6s - loss: 0.2272 - acc: 0.8882\n",
      "Epoch 3/15\n",
      " - 6s - loss: 0.2213 - acc: 0.8899\n",
      "Epoch 4/15\n",
      " - 6s - loss: 0.2158 - acc: 0.8918\n",
      "Epoch 5/15\n",
      " - 6s - loss: 0.2101 - acc: 0.8937\n",
      "Epoch 6/15\n",
      " - 6s - loss: 0.2055 - acc: 0.8958\n",
      "Epoch 7/15\n",
      " - 6s - loss: 0.2021 - acc: 0.8962\n",
      "Epoch 8/15\n",
      " - 6s - loss: 0.1995 - acc: 0.8965\n",
      "Epoch 9/15\n",
      " - 6s - loss: 0.1967 - acc: 0.8977\n",
      "Epoch 10/15\n",
      " - 6s - loss: 0.1934 - acc: 0.8987\n",
      "Epoch 11/15\n",
      " - 6s - loss: 0.1898 - acc: 0.8991\n",
      "Epoch 12/15\n",
      " - 6s - loss: 0.1862 - acc: 0.8996\n",
      "Epoch 13/15\n",
      " - 6s - loss: 0.1824 - acc: 0.9004\n",
      "Epoch 14/15\n",
      " - 6s - loss: 0.1794 - acc: 0.9011\n",
      "Epoch 15/15\n",
      " - 6s - loss: 0.1778 - acc: 0.9013\n"
     ]
    },
    {
     "data": {
      "text/plain": [
       "<keras.callbacks.History at 0x7f176c804a50>"
      ]
     },
     "execution_count": 14,
     "metadata": {
      "tags": []
     },
     "output_type": "execute_result"
    }
   ],
   "source": [
    "def create_model():\n",
    "    #create a model\n",
    "    model = Sequential()\n",
    "    model.add(Dense(32, input_dim=13, activation='relu'))\n",
    "    model.add(Dropout(0.2))\n",
    "    model.add(Dense(16, activation='relu'))\n",
    "    model.add(Dropout(0.2))\n",
    "    model.add(Dense(1, activation='sigmoid'))\n",
    "    return model\n",
    "  \n",
    "seed = 7\n",
    "np.random.seed(seed)\n",
    "epochs = 15\n",
    "batch_size = 1000\n",
    "\n",
    "model = create_model()\n",
    "model.compile(Adam(lr=0.001), loss='binary_crossentropy', metrics=['accuracy'])\n",
    "model.summary()\n",
    "model.fit(scaled_train_samples, scaled_train_labels, batch_size=batch_size, epochs=epochs, shuffle=True, verbose=2)"
   ]
  },
  {
   "cell_type": "markdown",
   "metadata": {
    "colab_type": "text",
    "id": "ZvLEsHJQNY-E"
   },
   "source": [
    "### DNN model - 17, 16, 8, 1\n",
    "learning_rate = 0.001\n",
    "\n",
    "epochs = 100\n",
    "\n",
    "batch_size = 50"
   ]
  },
  {
   "cell_type": "code",
   "execution_count": 0,
   "metadata": {
    "colab": {
     "base_uri": "https://localhost:8080/",
     "height": 3672
    },
    "colab_type": "code",
    "executionInfo": {
     "elapsed": 186101,
     "status": "ok",
     "timestamp": 1553292197489,
     "user": {
      "displayName": "Jozef Valko",
      "photoUrl": "https://lh4.googleusercontent.com/-rJdYS_jqK20/AAAAAAAAAAI/AAAAAAAAJ_I/XVZBkrJc6LU/s64/photo.jpg",
      "userId": "10599775509760039875"
     },
     "user_tz": -60
    },
    "id": "48R8Ta9wLg9O",
    "outputId": "261e65b3-28aa-440c-9152-a14b46665da3"
   },
   "outputs": [
    {
     "name": "stdout",
     "output_type": "stream",
     "text": [
      "_________________________________________________________________\n",
      "Layer (type)                 Output Shape              Param #   \n",
      "=================================================================\n",
      "dense_35 (Dense)             (None, 16)                288       \n",
      "_________________________________________________________________\n",
      "dense_36 (Dense)             (None, 8)                 136       \n",
      "_________________________________________________________________\n",
      "dense_37 (Dense)             (None, 1)                 9         \n",
      "=================================================================\n",
      "Total params: 433\n",
      "Trainable params: 433\n",
      "Non-trainable params: 0\n",
      "_________________________________________________________________\n",
      "Train on 65865 samples, validate on 16467 samples\n",
      "Epoch 1/100\n",
      " - 4s - loss: 0.4526 - acc: 0.7682 - val_loss: 0.5761 - val_acc: 0.5596\n",
      "Epoch 2/100\n",
      " - 2s - loss: 0.2987 - acc: 0.8821 - val_loss: 0.8244 - val_acc: 0.3981\n",
      "Epoch 3/100\n",
      " - 2s - loss: 0.2637 - acc: 0.8903 - val_loss: 0.7477 - val_acc: 0.5079\n",
      "Epoch 4/100\n",
      " - 2s - loss: 0.2505 - acc: 0.8934 - val_loss: 0.8171 - val_acc: 0.4930\n",
      "Epoch 5/100\n",
      " - 2s - loss: 0.2414 - acc: 0.8964 - val_loss: 0.9212 - val_acc: 0.4427\n",
      "Epoch 6/100\n",
      " - 2s - loss: 0.2343 - acc: 0.8996 - val_loss: 0.8612 - val_acc: 0.4998\n",
      "Epoch 7/100\n",
      " - 2s - loss: 0.2281 - acc: 0.9019 - val_loss: 0.9135 - val_acc: 0.4751\n",
      "Epoch 8/100\n",
      " - 2s - loss: 0.2229 - acc: 0.9037 - val_loss: 0.9144 - val_acc: 0.4765\n",
      "Epoch 9/100\n",
      " - 2s - loss: 0.2190 - acc: 0.9052 - val_loss: 1.0648 - val_acc: 0.3768\n",
      "Epoch 10/100\n",
      " - 2s - loss: 0.2147 - acc: 0.9074 - val_loss: 0.9832 - val_acc: 0.4615\n",
      "Epoch 11/100\n",
      " - 2s - loss: 0.2115 - acc: 0.9089 - val_loss: 1.2584 - val_acc: 0.3090\n",
      "Epoch 12/100\n",
      " - 2s - loss: 0.2089 - acc: 0.9105 - val_loss: 1.0473 - val_acc: 0.4059\n",
      "Epoch 13/100\n",
      " - 2s - loss: 0.2059 - acc: 0.9117 - val_loss: 0.8505 - val_acc: 0.5895\n",
      "Epoch 14/100\n",
      " - 2s - loss: 0.2030 - acc: 0.9132 - val_loss: 0.7108 - val_acc: 0.6534\n",
      "Epoch 15/100\n",
      " - 2s - loss: 0.1991 - acc: 0.9151 - val_loss: 0.8061 - val_acc: 0.5892\n",
      "Epoch 16/100\n",
      " - 2s - loss: 0.1967 - acc: 0.9166 - val_loss: 0.9102 - val_acc: 0.5322\n",
      "Epoch 17/100\n",
      " - 2s - loss: 0.1949 - acc: 0.9180 - val_loss: 0.8970 - val_acc: 0.5381\n",
      "Epoch 18/100\n",
      " - 2s - loss: 0.1932 - acc: 0.9182 - val_loss: 0.8581 - val_acc: 0.5671\n",
      "Epoch 19/100\n",
      " - 2s - loss: 0.1917 - acc: 0.9193 - val_loss: 0.9643 - val_acc: 0.4723\n",
      "Epoch 20/100\n",
      " - 2s - loss: 0.1904 - acc: 0.9211 - val_loss: 0.7140 - val_acc: 0.6834\n",
      "Epoch 21/100\n",
      " - 2s - loss: 0.1889 - acc: 0.9215 - val_loss: 0.7961 - val_acc: 0.6216\n",
      "Epoch 22/100\n",
      " - 2s - loss: 0.1874 - acc: 0.9217 - val_loss: 0.8748 - val_acc: 0.5853\n",
      "Epoch 23/100\n",
      " - 2s - loss: 0.1865 - acc: 0.9226 - val_loss: 0.7844 - val_acc: 0.6509\n",
      "Epoch 24/100\n",
      " - 2s - loss: 0.1852 - acc: 0.9228 - val_loss: 0.9307 - val_acc: 0.5552\n",
      "Epoch 25/100\n",
      " - 2s - loss: 0.1839 - acc: 0.9235 - val_loss: 0.8489 - val_acc: 0.5976\n",
      "Epoch 26/100\n",
      " - 2s - loss: 0.1835 - acc: 0.9238 - val_loss: 1.0486 - val_acc: 0.4314\n",
      "Epoch 27/100\n",
      " - 2s - loss: 0.1820 - acc: 0.9239 - val_loss: 0.9782 - val_acc: 0.4921\n",
      "Epoch 28/100\n",
      " - 2s - loss: 0.1816 - acc: 0.9251 - val_loss: 0.8652 - val_acc: 0.6053\n",
      "Epoch 29/100\n",
      " - 2s - loss: 0.1804 - acc: 0.9249 - val_loss: 0.9969 - val_acc: 0.5011\n",
      "Epoch 30/100\n",
      " - 2s - loss: 0.1794 - acc: 0.9262 - val_loss: 0.9285 - val_acc: 0.5327\n",
      "Epoch 31/100\n",
      " - 2s - loss: 0.1789 - acc: 0.9263 - val_loss: 0.7993 - val_acc: 0.6472\n",
      "Epoch 32/100\n",
      " - 2s - loss: 0.1782 - acc: 0.9263 - val_loss: 0.7975 - val_acc: 0.6532\n",
      "Epoch 33/100\n",
      " - 2s - loss: 0.1778 - acc: 0.9274 - val_loss: 1.0479 - val_acc: 0.4497\n",
      "Epoch 34/100\n",
      " - 2s - loss: 0.1771 - acc: 0.9264 - val_loss: 0.8476 - val_acc: 0.6062\n",
      "Epoch 35/100\n",
      " - 2s - loss: 0.1760 - acc: 0.9276 - val_loss: 0.9649 - val_acc: 0.5211\n",
      "Epoch 36/100\n",
      " - 2s - loss: 0.1759 - acc: 0.9269 - val_loss: 0.9377 - val_acc: 0.5487\n",
      "Epoch 37/100\n",
      " - 2s - loss: 0.1752 - acc: 0.9274 - val_loss: 0.8372 - val_acc: 0.6320\n",
      "Epoch 38/100\n",
      " - 2s - loss: 0.1742 - acc: 0.9283 - val_loss: 0.9260 - val_acc: 0.5510\n",
      "Epoch 39/100\n",
      " - 2s - loss: 0.1744 - acc: 0.9279 - val_loss: 0.7276 - val_acc: 0.7074\n",
      "Epoch 40/100\n",
      " - 2s - loss: 0.1741 - acc: 0.9278 - val_loss: 0.9928 - val_acc: 0.5182\n",
      "Epoch 41/100\n",
      " - 2s - loss: 0.1731 - acc: 0.9286 - val_loss: 0.8621 - val_acc: 0.6089\n",
      "Epoch 42/100\n",
      " - 2s - loss: 0.1728 - acc: 0.9283 - val_loss: 0.8641 - val_acc: 0.6183\n",
      "Epoch 43/100\n",
      " - 2s - loss: 0.1729 - acc: 0.9281 - val_loss: 0.9492 - val_acc: 0.5592\n",
      "Epoch 44/100\n",
      " - 2s - loss: 0.1720 - acc: 0.9286 - val_loss: 0.8684 - val_acc: 0.5986\n",
      "Epoch 45/100\n",
      " - 2s - loss: 0.1722 - acc: 0.9287 - val_loss: 0.8999 - val_acc: 0.5717\n",
      "Epoch 46/100\n",
      " - 2s - loss: 0.1716 - acc: 0.9290 - val_loss: 0.9133 - val_acc: 0.5762\n",
      "Epoch 47/100\n",
      " - 2s - loss: 0.1716 - acc: 0.9281 - val_loss: 0.8664 - val_acc: 0.6093\n",
      "Epoch 48/100\n",
      " - 2s - loss: 0.1708 - acc: 0.9290 - val_loss: 0.8065 - val_acc: 0.6692\n",
      "Epoch 49/100\n",
      " - 2s - loss: 0.1707 - acc: 0.9287 - val_loss: 0.9920 - val_acc: 0.5316\n",
      "Epoch 50/100\n",
      " - 2s - loss: 0.1700 - acc: 0.9291 - val_loss: 0.8930 - val_acc: 0.5975\n",
      "Epoch 51/100\n",
      " - 2s - loss: 0.1697 - acc: 0.9294 - val_loss: 1.1013 - val_acc: 0.4048\n",
      "Epoch 52/100\n",
      " - 2s - loss: 0.1693 - acc: 0.9299 - val_loss: 1.0882 - val_acc: 0.4308\n",
      "Epoch 53/100\n",
      " - 2s - loss: 0.1693 - acc: 0.9292 - val_loss: 1.0323 - val_acc: 0.4991\n",
      "Epoch 54/100\n",
      " - 2s - loss: 0.1691 - acc: 0.9292 - val_loss: 0.8995 - val_acc: 0.5899\n",
      "Epoch 55/100\n",
      " - 2s - loss: 0.1684 - acc: 0.9298 - val_loss: 1.0086 - val_acc: 0.5157\n",
      "Epoch 56/100\n",
      " - 2s - loss: 0.1687 - acc: 0.9298 - val_loss: 1.0241 - val_acc: 0.5182\n",
      "Epoch 57/100\n",
      " - 2s - loss: 0.1684 - acc: 0.9306 - val_loss: 0.9745 - val_acc: 0.5344\n",
      "Epoch 58/100\n",
      " - 2s - loss: 0.1680 - acc: 0.9306 - val_loss: 0.9235 - val_acc: 0.5793\n",
      "Epoch 59/100\n",
      " - 2s - loss: 0.1674 - acc: 0.9303 - val_loss: 0.9227 - val_acc: 0.5643\n",
      "Epoch 60/100\n",
      " - 2s - loss: 0.1676 - acc: 0.9300 - val_loss: 0.8276 - val_acc: 0.6474\n",
      "Epoch 61/100\n",
      " - 2s - loss: 0.1674 - acc: 0.9306 - val_loss: 1.0163 - val_acc: 0.5257\n",
      "Epoch 62/100\n",
      " - 2s - loss: 0.1670 - acc: 0.9316 - val_loss: 0.8334 - val_acc: 0.6426\n",
      "Epoch 63/100\n",
      " - 2s - loss: 0.1671 - acc: 0.9313 - val_loss: 0.9151 - val_acc: 0.5935\n",
      "Epoch 64/100\n",
      " - 2s - loss: 0.1668 - acc: 0.9301 - val_loss: 1.1213 - val_acc: 0.4697\n",
      "Epoch 65/100\n",
      " - 2s - loss: 0.1667 - acc: 0.9313 - val_loss: 1.1097 - val_acc: 0.4841\n",
      "Epoch 66/100\n",
      " - 2s - loss: 0.1665 - acc: 0.9305 - val_loss: 0.9031 - val_acc: 0.5882\n",
      "Epoch 67/100\n",
      " - 2s - loss: 0.1662 - acc: 0.9313 - val_loss: 0.8070 - val_acc: 0.6965\n",
      "Epoch 68/100\n",
      " - 2s - loss: 0.1660 - acc: 0.9318 - val_loss: 1.0354 - val_acc: 0.5325\n",
      "Epoch 69/100\n",
      " - 2s - loss: 0.1658 - acc: 0.9312 - val_loss: 0.8157 - val_acc: 0.6561\n",
      "Epoch 70/100\n",
      " - 2s - loss: 0.1654 - acc: 0.9318 - val_loss: 1.2654 - val_acc: 0.3458\n",
      "Epoch 71/100\n",
      " - 2s - loss: 0.1659 - acc: 0.9316 - val_loss: 1.0499 - val_acc: 0.5127\n",
      "Epoch 72/100\n",
      " - 2s - loss: 0.1647 - acc: 0.9318 - val_loss: 0.9088 - val_acc: 0.6089\n",
      "Epoch 73/100\n",
      " - 2s - loss: 0.1652 - acc: 0.9315 - val_loss: 0.8792 - val_acc: 0.6629\n",
      "Epoch 74/100\n",
      " - 2s - loss: 0.1647 - acc: 0.9318 - val_loss: 0.8413 - val_acc: 0.6565\n",
      "Epoch 75/100\n",
      " - 2s - loss: 0.1648 - acc: 0.9317 - val_loss: 1.0194 - val_acc: 0.5148\n",
      "Epoch 76/100\n",
      " - 2s - loss: 0.1648 - acc: 0.9316 - val_loss: 0.9525 - val_acc: 0.5787\n",
      "Epoch 77/100\n",
      " - 2s - loss: 0.1643 - acc: 0.9318 - val_loss: 0.7569 - val_acc: 0.6866\n",
      "Epoch 78/100\n",
      " - 2s - loss: 0.1640 - acc: 0.9320 - val_loss: 1.0667 - val_acc: 0.4851\n",
      "Epoch 79/100\n",
      " - 2s - loss: 0.1632 - acc: 0.9332 - val_loss: 0.8970 - val_acc: 0.6035\n",
      "Epoch 80/100\n",
      " - 2s - loss: 0.1633 - acc: 0.9323 - val_loss: 0.9437 - val_acc: 0.6025\n",
      "Epoch 81/100\n",
      " - 2s - loss: 0.1629 - acc: 0.9329 - val_loss: 1.2421 - val_acc: 0.3675\n",
      "Epoch 82/100\n",
      " - 2s - loss: 0.1630 - acc: 0.9318 - val_loss: 1.0050 - val_acc: 0.5594\n",
      "Epoch 83/100\n",
      " - 2s - loss: 0.1625 - acc: 0.9332 - val_loss: 0.7974 - val_acc: 0.6717\n",
      "Epoch 84/100\n",
      " - 2s - loss: 0.1624 - acc: 0.9327 - val_loss: 0.8108 - val_acc: 0.6880\n",
      "Epoch 85/100\n",
      " - 2s - loss: 0.1618 - acc: 0.9332 - val_loss: 1.1102 - val_acc: 0.4426\n",
      "Epoch 86/100\n",
      " - 2s - loss: 0.1621 - acc: 0.9332 - val_loss: 1.1266 - val_acc: 0.4593\n",
      "Epoch 87/100\n",
      " - 2s - loss: 0.1611 - acc: 0.9332 - val_loss: 0.9322 - val_acc: 0.5843\n",
      "Epoch 88/100\n",
      " - 2s - loss: 0.1615 - acc: 0.9331 - val_loss: 0.9716 - val_acc: 0.5748\n",
      "Epoch 89/100\n",
      " - 2s - loss: 0.1610 - acc: 0.9342 - val_loss: 0.8416 - val_acc: 0.6449\n",
      "Epoch 90/100\n",
      " - 2s - loss: 0.1606 - acc: 0.9338 - val_loss: 1.2884 - val_acc: 0.3415\n",
      "Epoch 91/100\n",
      " - 2s - loss: 0.1606 - acc: 0.9343 - val_loss: 0.7821 - val_acc: 0.6811\n",
      "Epoch 92/100\n",
      " - 2s - loss: 0.1609 - acc: 0.9336 - val_loss: 0.8730 - val_acc: 0.6392\n",
      "Epoch 93/100\n",
      " - 2s - loss: 0.1606 - acc: 0.9344 - val_loss: 0.8932 - val_acc: 0.5995\n",
      "Epoch 94/100\n",
      " - 2s - loss: 0.1599 - acc: 0.9344 - val_loss: 0.8747 - val_acc: 0.6317\n",
      "Epoch 95/100\n",
      " - 2s - loss: 0.1601 - acc: 0.9342 - val_loss: 1.0209 - val_acc: 0.5459\n",
      "Epoch 96/100\n",
      " - 2s - loss: 0.1602 - acc: 0.9338 - val_loss: 0.8541 - val_acc: 0.6449\n",
      "Epoch 97/100\n",
      " - 2s - loss: 0.1599 - acc: 0.9344 - val_loss: 0.9876 - val_acc: 0.5753\n",
      "Epoch 98/100\n",
      " - 2s - loss: 0.1593 - acc: 0.9339 - val_loss: 1.1263 - val_acc: 0.4648\n",
      "Epoch 99/100\n",
      " - 2s - loss: 0.1592 - acc: 0.9357 - val_loss: 1.0654 - val_acc: 0.4810\n",
      "Epoch 100/100\n",
      " - 2s - loss: 0.1593 - acc: 0.9338 - val_loss: 1.0130 - val_acc: 0.5505\n"
     ]
    },
    {
     "data": {
      "text/plain": [
       "<keras.callbacks.History at 0x7f56ac1febd0>"
      ]
     },
     "execution_count": 156,
     "metadata": {
      "tags": []
     },
     "output_type": "execute_result"
    }
   ],
   "source": [
    "def create_model():\n",
    "    #create a model\n",
    "    model = Sequential()\n",
    "    model.add(Dense(16, input_dim=17, activation='relu'))\n",
    "    model.add(Dense(8, activation='relu'))\n",
    "    model.add(Dense(1, activation='sigmoid'))\n",
    "    return model\n",
    "  \n",
    "seed = 7\n",
    "np.random.seed(seed)\n",
    "epochs = 100\n",
    "batch_size = 50\n",
    "\n",
    "model = create_model()\n",
    "model.compile(Adam(lr=0.001), loss='binary_crossentropy', metrics=['accuracy'])\n",
    "model.summary()\n",
    "model.fit(train_samples, train_labels, validation_split=0.2, batch_size=batch_size, epochs=epochs, shuffle=True, verbose=2)"
   ]
  },
  {
   "cell_type": "markdown",
   "metadata": {
    "colab_type": "text",
    "id": "-St_Mgnvakcn"
   },
   "source": [
    "### DNN model - 17, 16, 8, 1\n",
    "learning_rate = 0.001\n",
    "\n",
    "epochs = 100\n",
    "\n",
    "batch_size = 50\n",
    "\n",
    "dropout = 0.5"
   ]
  },
  {
   "cell_type": "code",
   "execution_count": 0,
   "metadata": {
    "colab": {
     "base_uri": "https://localhost:8080/",
     "height": 3740
    },
    "colab_type": "code",
    "executionInfo": {
     "elapsed": 204069,
     "status": "ok",
     "timestamp": 1553292641383,
     "user": {
      "displayName": "Jozef Valko",
      "photoUrl": "https://lh4.googleusercontent.com/-rJdYS_jqK20/AAAAAAAAAAI/AAAAAAAAJ_I/XVZBkrJc6LU/s64/photo.jpg",
      "userId": "10599775509760039875"
     },
     "user_tz": -60
    },
    "id": "es8n3XPnNXq0",
    "outputId": "9622c920-2cd6-43ce-958c-535f4a58d2ef"
   },
   "outputs": [
    {
     "name": "stdout",
     "output_type": "stream",
     "text": [
      "_________________________________________________________________\n",
      "Layer (type)                 Output Shape              Param #   \n",
      "=================================================================\n",
      "dense_44 (Dense)             (None, 16)                288       \n",
      "_________________________________________________________________\n",
      "dropout_11 (Dropout)         (None, 16)                0         \n",
      "_________________________________________________________________\n",
      "dense_45 (Dense)             (None, 8)                 136       \n",
      "_________________________________________________________________\n",
      "dropout_12 (Dropout)         (None, 8)                 0         \n",
      "_________________________________________________________________\n",
      "dense_46 (Dense)             (None, 1)                 9         \n",
      "=================================================================\n",
      "Total params: 433\n",
      "Trainable params: 433\n",
      "Non-trainable params: 0\n",
      "_________________________________________________________________\n",
      "Train on 65865 samples, validate on 16467 samples\n",
      "Epoch 1/100\n",
      " - 4s - loss: 0.4404 - acc: 0.7685 - val_loss: 0.8303 - val_acc: 0.4148\n",
      "Epoch 2/100\n",
      " - 2s - loss: 0.3022 - acc: 0.8671 - val_loss: 0.9258 - val_acc: 0.4402\n",
      "Epoch 3/100\n",
      " - 2s - loss: 0.2749 - acc: 0.8800 - val_loss: 0.9107 - val_acc: 0.4594\n",
      "Epoch 4/100\n",
      " - 2s - loss: 0.2633 - acc: 0.8857 - val_loss: 1.0337 - val_acc: 0.3902\n",
      "Epoch 5/100\n",
      " - 2s - loss: 0.2572 - acc: 0.8881 - val_loss: 0.8651 - val_acc: 0.5593\n",
      "Epoch 6/100\n",
      " - 2s - loss: 0.2492 - acc: 0.8934 - val_loss: 0.9406 - val_acc: 0.4872\n",
      "Epoch 7/100\n",
      " - 2s - loss: 0.2444 - acc: 0.8970 - val_loss: 0.7918 - val_acc: 0.6319\n",
      "Epoch 8/100\n",
      " - 2s - loss: 0.2385 - acc: 0.8992 - val_loss: 0.8652 - val_acc: 0.5955\n",
      "Epoch 9/100\n",
      " - 2s - loss: 0.2357 - acc: 0.8992 - val_loss: 0.9314 - val_acc: 0.5306\n",
      "Epoch 10/100\n",
      " - 2s - loss: 0.2321 - acc: 0.9025 - val_loss: 0.8451 - val_acc: 0.6292\n",
      "Epoch 11/100\n",
      " - 2s - loss: 0.2291 - acc: 0.9052 - val_loss: 0.8554 - val_acc: 0.6195\n",
      "Epoch 12/100\n",
      " - 2s - loss: 0.2260 - acc: 0.9050 - val_loss: 0.8693 - val_acc: 0.6336\n",
      "Epoch 13/100\n",
      " - 2s - loss: 0.2243 - acc: 0.9046 - val_loss: 0.8327 - val_acc: 0.6471\n",
      "Epoch 14/100\n",
      " - 2s - loss: 0.2216 - acc: 0.9068 - val_loss: 0.7047 - val_acc: 0.7742\n",
      "Epoch 15/100\n",
      " - 2s - loss: 0.2206 - acc: 0.9075 - val_loss: 0.7822 - val_acc: 0.7160\n",
      "Epoch 16/100\n",
      " - 2s - loss: 0.2181 - acc: 0.9094 - val_loss: 0.8161 - val_acc: 0.6801\n",
      "Epoch 17/100\n",
      " - 2s - loss: 0.2158 - acc: 0.9104 - val_loss: 0.8164 - val_acc: 0.7029\n",
      "Epoch 18/100\n",
      " - 2s - loss: 0.2163 - acc: 0.9105 - val_loss: 0.7881 - val_acc: 0.7379\n",
      "Epoch 19/100\n",
      " - 2s - loss: 0.2140 - acc: 0.9115 - val_loss: 0.7611 - val_acc: 0.7771\n",
      "Epoch 20/100\n",
      " - 2s - loss: 0.2142 - acc: 0.9111 - val_loss: 0.7576 - val_acc: 0.7437\n",
      "Epoch 21/100\n",
      " - 2s - loss: 0.2131 - acc: 0.9116 - val_loss: 0.7877 - val_acc: 0.7490\n",
      "Epoch 22/100\n",
      " - 2s - loss: 0.2104 - acc: 0.9120 - val_loss: 0.7849 - val_acc: 0.7446\n",
      "Epoch 23/100\n",
      " - 2s - loss: 0.2109 - acc: 0.9130 - val_loss: 0.7814 - val_acc: 0.7700\n",
      "Epoch 24/100\n",
      " - 2s - loss: 0.2091 - acc: 0.9138 - val_loss: 0.8031 - val_acc: 0.7465\n",
      "Epoch 25/100\n",
      " - 2s - loss: 0.2094 - acc: 0.9136 - val_loss: 0.8975 - val_acc: 0.6475\n",
      "Epoch 26/100\n",
      " - 2s - loss: 0.2065 - acc: 0.9154 - val_loss: 0.7746 - val_acc: 0.7730\n",
      "Epoch 27/100\n",
      " - 2s - loss: 0.2061 - acc: 0.9161 - val_loss: 0.7846 - val_acc: 0.7313\n",
      "Epoch 28/100\n",
      " - 2s - loss: 0.2039 - acc: 0.9165 - val_loss: 0.8035 - val_acc: 0.7589\n",
      "Epoch 29/100\n",
      " - 2s - loss: 0.2057 - acc: 0.9151 - val_loss: 0.7979 - val_acc: 0.7408\n",
      "Epoch 30/100\n",
      " - 2s - loss: 0.2031 - acc: 0.9169 - val_loss: 0.8107 - val_acc: 0.7601\n",
      "Epoch 31/100\n",
      " - 2s - loss: 0.2022 - acc: 0.9179 - val_loss: 0.8397 - val_acc: 0.7246\n",
      "Epoch 32/100\n",
      " - 2s - loss: 0.1992 - acc: 0.9191 - val_loss: 0.7678 - val_acc: 0.7635\n",
      "Epoch 33/100\n",
      " - 2s - loss: 0.2005 - acc: 0.9180 - val_loss: 0.8191 - val_acc: 0.7327\n",
      "Epoch 34/100\n",
      " - 2s - loss: 0.1997 - acc: 0.9195 - val_loss: 0.8927 - val_acc: 0.6192\n",
      "Epoch 35/100\n",
      " - 2s - loss: 0.1974 - acc: 0.9199 - val_loss: 0.9882 - val_acc: 0.6253\n",
      "Epoch 36/100\n",
      " - 2s - loss: 0.1970 - acc: 0.9213 - val_loss: 0.7334 - val_acc: 0.7872\n",
      "Epoch 37/100\n",
      " - 2s - loss: 0.1969 - acc: 0.9203 - val_loss: 0.7749 - val_acc: 0.7754\n",
      "Epoch 38/100\n",
      " - 2s - loss: 0.1984 - acc: 0.9189 - val_loss: 1.0366 - val_acc: 0.6018\n",
      "Epoch 39/100\n",
      " - 2s - loss: 0.1952 - acc: 0.9202 - val_loss: 0.7629 - val_acc: 0.7253\n",
      "Epoch 40/100\n",
      " - 2s - loss: 0.1938 - acc: 0.9216 - val_loss: 0.8347 - val_acc: 0.7489\n",
      "Epoch 41/100\n",
      " - 2s - loss: 0.1933 - acc: 0.9214 - val_loss: 0.7182 - val_acc: 0.7730\n",
      "Epoch 42/100\n",
      " - 2s - loss: 0.1932 - acc: 0.9213 - val_loss: 0.8411 - val_acc: 0.7182\n",
      "Epoch 43/100\n",
      " - 2s - loss: 0.1927 - acc: 0.9229 - val_loss: 0.8252 - val_acc: 0.7680\n",
      "Epoch 44/100\n",
      " - 2s - loss: 0.1920 - acc: 0.9213 - val_loss: 0.9247 - val_acc: 0.6415\n",
      "Epoch 45/100\n",
      " - 2s - loss: 0.1928 - acc: 0.9207 - val_loss: 0.7432 - val_acc: 0.7980\n",
      "Epoch 46/100\n",
      " - 2s - loss: 0.1932 - acc: 0.9223 - val_loss: 0.9079 - val_acc: 0.6534\n",
      "Epoch 47/100\n",
      " - 2s - loss: 0.1917 - acc: 0.9225 - val_loss: 0.8523 - val_acc: 0.7256\n",
      "Epoch 48/100\n",
      " - 2s - loss: 0.1934 - acc: 0.9227 - val_loss: 0.8832 - val_acc: 0.6963\n",
      "Epoch 49/100\n",
      " - 2s - loss: 0.1912 - acc: 0.9228 - val_loss: 0.8102 - val_acc: 0.7390\n",
      "Epoch 50/100\n",
      " - 2s - loss: 0.1909 - acc: 0.9219 - val_loss: 0.8355 - val_acc: 0.7307\n",
      "Epoch 51/100\n",
      " - 2s - loss: 0.1917 - acc: 0.9227 - val_loss: 0.8394 - val_acc: 0.7613\n",
      "Epoch 52/100\n",
      " - 2s - loss: 0.1919 - acc: 0.9212 - val_loss: 0.8169 - val_acc: 0.7339\n",
      "Epoch 53/100\n",
      " - 2s - loss: 0.1911 - acc: 0.9223 - val_loss: 0.9631 - val_acc: 0.6814\n",
      "Epoch 54/100\n",
      " - 2s - loss: 0.1913 - acc: 0.9225 - val_loss: 0.8326 - val_acc: 0.7327\n",
      "Epoch 55/100\n",
      " - 2s - loss: 0.1919 - acc: 0.9219 - val_loss: 0.7530 - val_acc: 0.7616\n",
      "Epoch 56/100\n",
      " - 2s - loss: 0.1906 - acc: 0.9213 - val_loss: 0.9023 - val_acc: 0.7128\n",
      "Epoch 57/100\n",
      " - 2s - loss: 0.1899 - acc: 0.9226 - val_loss: 0.8763 - val_acc: 0.7282\n",
      "Epoch 58/100\n",
      " - 2s - loss: 0.1900 - acc: 0.9224 - val_loss: 0.8592 - val_acc: 0.7319\n",
      "Epoch 59/100\n",
      " - 2s - loss: 0.1895 - acc: 0.9240 - val_loss: 0.7139 - val_acc: 0.8008\n",
      "Epoch 60/100\n",
      " - 2s - loss: 0.1884 - acc: 0.9250 - val_loss: 0.8987 - val_acc: 0.7210\n",
      "Epoch 61/100\n",
      " - 2s - loss: 0.1874 - acc: 0.9244 - val_loss: 0.9315 - val_acc: 0.7074\n",
      "Epoch 62/100\n",
      " - 2s - loss: 0.1882 - acc: 0.9233 - val_loss: 0.8016 - val_acc: 0.7250\n",
      "Epoch 63/100\n",
      " - 2s - loss: 0.1895 - acc: 0.9231 - val_loss: 0.7598 - val_acc: 0.7664\n",
      "Epoch 64/100\n",
      " - 2s - loss: 0.1859 - acc: 0.9248 - val_loss: 0.8519 - val_acc: 0.7451\n",
      "Epoch 65/100\n",
      " - 2s - loss: 0.1885 - acc: 0.9236 - val_loss: 0.9924 - val_acc: 0.6398\n",
      "Epoch 66/100\n",
      " - 2s - loss: 0.1868 - acc: 0.9255 - val_loss: 0.7409 - val_acc: 0.7842\n",
      "Epoch 67/100\n",
      " - 2s - loss: 0.1876 - acc: 0.9242 - val_loss: 0.9018 - val_acc: 0.7122\n",
      "Epoch 68/100\n",
      " - 2s - loss: 0.1888 - acc: 0.9241 - val_loss: 0.8240 - val_acc: 0.7312\n",
      "Epoch 69/100\n",
      " - 2s - loss: 0.1867 - acc: 0.9245 - val_loss: 0.8127 - val_acc: 0.7336\n",
      "Epoch 70/100\n",
      " - 2s - loss: 0.1860 - acc: 0.9248 - val_loss: 0.8709 - val_acc: 0.7419\n",
      "Epoch 71/100\n",
      " - 2s - loss: 0.1878 - acc: 0.9253 - val_loss: 0.9169 - val_acc: 0.6749\n",
      "Epoch 72/100\n",
      " - 2s - loss: 0.1882 - acc: 0.9238 - val_loss: 0.9128 - val_acc: 0.7209\n",
      "Epoch 73/100\n",
      " - 2s - loss: 0.1874 - acc: 0.9250 - val_loss: 0.8269 - val_acc: 0.7487\n",
      "Epoch 74/100\n",
      " - 2s - loss: 0.1871 - acc: 0.9233 - val_loss: 0.7886 - val_acc: 0.7729\n",
      "Epoch 75/100\n",
      " - 2s - loss: 0.1859 - acc: 0.9265 - val_loss: 0.8624 - val_acc: 0.7415\n",
      "Epoch 76/100\n",
      " - 2s - loss: 0.1852 - acc: 0.9256 - val_loss: 0.7422 - val_acc: 0.7675\n",
      "Epoch 77/100\n",
      " - 2s - loss: 0.1855 - acc: 0.9253 - val_loss: 0.8780 - val_acc: 0.7300\n",
      "Epoch 78/100\n",
      " - 2s - loss: 0.1861 - acc: 0.9248 - val_loss: 0.8642 - val_acc: 0.7343\n",
      "Epoch 79/100\n",
      " - 2s - loss: 0.1853 - acc: 0.9240 - val_loss: 0.8100 - val_acc: 0.7318\n",
      "Epoch 80/100\n",
      " - 2s - loss: 0.1856 - acc: 0.9240 - val_loss: 0.7891 - val_acc: 0.7330\n",
      "Epoch 81/100\n",
      " - 2s - loss: 0.1858 - acc: 0.9259 - val_loss: 0.8046 - val_acc: 0.7234\n",
      "Epoch 82/100\n",
      " - 2s - loss: 0.1857 - acc: 0.9257 - val_loss: 0.9494 - val_acc: 0.6367\n",
      "Epoch 83/100\n",
      " - 2s - loss: 0.1877 - acc: 0.9249 - val_loss: 0.8835 - val_acc: 0.6897\n",
      "Epoch 84/100\n",
      " - 2s - loss: 0.1852 - acc: 0.9263 - val_loss: 0.8592 - val_acc: 0.7290\n",
      "Epoch 85/100\n",
      " - 2s - loss: 0.1833 - acc: 0.9260 - val_loss: 0.7763 - val_acc: 0.7406\n",
      "Epoch 86/100\n",
      " - 2s - loss: 0.1837 - acc: 0.9269 - val_loss: 1.0118 - val_acc: 0.6470\n",
      "Epoch 87/100\n",
      " - 2s - loss: 0.1832 - acc: 0.9259 - val_loss: 0.8067 - val_acc: 0.7280\n",
      "Epoch 88/100\n",
      " - 2s - loss: 0.1840 - acc: 0.9261 - val_loss: 0.7828 - val_acc: 0.7592\n",
      "Epoch 89/100\n",
      " - 2s - loss: 0.1839 - acc: 0.9257 - val_loss: 0.8339 - val_acc: 0.7313\n",
      "Epoch 90/100\n",
      " - 2s - loss: 0.1838 - acc: 0.9269 - val_loss: 0.7755 - val_acc: 0.7647\n",
      "Epoch 91/100\n",
      " - 2s - loss: 0.1846 - acc: 0.9260 - val_loss: 0.8464 - val_acc: 0.7555\n",
      "Epoch 92/100\n",
      " - 2s - loss: 0.1823 - acc: 0.9263 - val_loss: 0.8476 - val_acc: 0.7281\n",
      "Epoch 93/100\n",
      " - 2s - loss: 0.1822 - acc: 0.9264 - val_loss: 0.8221 - val_acc: 0.7621\n",
      "Epoch 94/100\n",
      " - 2s - loss: 0.1822 - acc: 0.9268 - val_loss: 0.7959 - val_acc: 0.7634\n",
      "Epoch 95/100\n",
      " - 2s - loss: 0.1818 - acc: 0.9269 - val_loss: 0.7313 - val_acc: 0.7804\n",
      "Epoch 96/100\n",
      " - 2s - loss: 0.1822 - acc: 0.9267 - val_loss: 0.8249 - val_acc: 0.7298\n",
      "Epoch 97/100\n",
      " - 2s - loss: 0.1788 - acc: 0.9289 - val_loss: 0.8141 - val_acc: 0.7386\n",
      "Epoch 98/100\n",
      " - 2s - loss: 0.1792 - acc: 0.9276 - val_loss: 0.8085 - val_acc: 0.7548\n",
      "Epoch 99/100\n",
      " - 2s - loss: 0.1803 - acc: 0.9276 - val_loss: 0.8286 - val_acc: 0.7226\n",
      "Epoch 100/100\n",
      " - 2s - loss: 0.1774 - acc: 0.9289 - val_loss: 0.8723 - val_acc: 0.7302\n"
     ]
    },
    {
     "data": {
      "text/plain": [
       "<keras.callbacks.History at 0x7f56ab770410>"
      ]
     },
     "execution_count": 159,
     "metadata": {
      "tags": []
     },
     "output_type": "execute_result"
    }
   ],
   "source": [
    "def create_model():\n",
    "    #create a model\n",
    "    model = Sequential()\n",
    "    model.add(Dense(16, input_dim=17, activation='relu'))\n",
    "    model.add(Dropout(0.2))\n",
    "    model.add(Dense(8, activation='relu'))\n",
    "    model.add(Dropout(0.2))\n",
    "    model.add(Dense(1, activation='sigmoid'))\n",
    "    return model\n",
    "  \n",
    "seed = 7\n",
    "np.random.seed(seed)\n",
    "epochs = 100\n",
    "batch_size = 50\n",
    "\n",
    "model = create_model()\n",
    "model.compile(Adam(lr=0.001), loss='binary_crossentropy', metrics=['accuracy'])\n",
    "model.summary()\n",
    "model.fit(train_samples, train_labels, validation_split=0.2, batch_size=batch_size, epochs=epochs, shuffle=True, verbose=2)"
   ]
  },
  {
   "cell_type": "markdown",
   "metadata": {
    "colab_type": "text",
    "id": "hmD_xFoa-6qn"
   },
   "source": [
    "### Saving the model and scaler"
   ]
  },
  {
   "cell_type": "code",
   "execution_count": 0,
   "metadata": {
    "colab": {
     "base_uri": "https://localhost:8080/",
     "height": 34
    },
    "colab_type": "code",
    "executionInfo": {
     "elapsed": 1501,
     "status": "ok",
     "timestamp": 1554650572551,
     "user": {
      "displayName": "Jozef Valko",
      "photoUrl": "https://lh4.googleusercontent.com/-rJdYS_jqK20/AAAAAAAAAAI/AAAAAAAAJ_I/XVZBkrJc6LU/s64/photo.jpg",
      "userId": "10599775509760039875"
     },
     "user_tz": -120
    },
    "id": "-TWrRdT0vDxb",
    "outputId": "bb30af58-92a6-479a-ffaf-5865e9d160d7"
   },
   "outputs": [
    {
     "data": {
      "text/plain": [
       "['/content/drive/My Drive/FIIT STU/Ing/4. semester/Diplomovy\\xcc\\x81 projekt 3/trained_models/DNN_model_all_binary_full_scaler.sav']"
      ]
     },
     "execution_count": 118,
     "metadata": {
      "tags": []
     },
     "output_type": "execute_result"
    }
   ],
   "source": [
    "model.save('/content/drive/My Drive/FIIT STU/Ing/4. semester/Diplomový projekt 3/trained_models/DNN_model_all_binary_full.h5')\n",
    "joblib.dump(scaler, '/content/drive/My Drive/FIIT STU/Ing/4. semester/Diplomový projekt 3/trained_models/DNN_model_all_binary_full_scaler.sav')"
   ]
  },
  {
   "cell_type": "markdown",
   "metadata": {
    "colab_type": "text",
    "id": "eTchkgDH_MN6"
   },
   "source": [
    "## Testing"
   ]
  },
  {
   "cell_type": "markdown",
   "metadata": {
    "colab_type": "text",
    "id": "XC42zmyn_czz"
   },
   "source": [
    "### Loading the testing set"
   ]
  },
  {
   "cell_type": "code",
   "execution_count": 0,
   "metadata": {
    "colab": {
     "base_uri": "https://localhost:8080/",
     "height": 51
    },
    "colab_type": "code",
    "executionInfo": {
     "elapsed": 4087,
     "status": "ok",
     "timestamp": 1554643902666,
     "user": {
      "displayName": "Jozef Valko",
      "photoUrl": "https://lh4.googleusercontent.com/-rJdYS_jqK20/AAAAAAAAAAI/AAAAAAAAJ_I/XVZBkrJc6LU/s64/photo.jpg",
      "userId": "10599775509760039875"
     },
     "user_tz": -120
    },
    "id": "egONr_k-_j2K",
    "outputId": "c4d22a1b-b959-4e8a-bc90-533cd01950df"
   },
   "outputs": [
    {
     "name": "stderr",
     "output_type": "stream",
     "text": [
      "/usr/local/lib/python2.7/dist-packages/IPython/core/interactiveshell.py:2718: DtypeWarning: Columns (3,47) have mixed types. Specify dtype option on import or set low_memory=False.\n",
      "  interactivity=interactivity, compiler=compiler, result=result)\n"
     ]
    }
   ],
   "source": [
    "test = pd.read_csv('/content/drive/My Drive/FIIT STU/Ing/4. semester/Diplomový projekt 3/dataset/UNSW-NB15_full_testing_set.csv')"
   ]
  },
  {
   "cell_type": "code",
   "execution_count": 0,
   "metadata": {
    "colab": {
     "base_uri": "https://localhost:8080/",
     "height": 224
    },
    "colab_type": "code",
    "executionInfo": {
     "elapsed": 698,
     "status": "ok",
     "timestamp": 1555276137658,
     "user": {
      "displayName": "Jozef Valko",
      "photoUrl": "https://lh4.googleusercontent.com/-rJdYS_jqK20/AAAAAAAAAAI/AAAAAAAAJ_I/XVZBkrJc6LU/s64/photo.jpg",
      "userId": "10599775509760039875"
     },
     "user_tz": -120
    },
    "id": "1iVGDkti_5e8",
    "outputId": "26c24f41-da33-4944-911a-76521e35ac5f"
   },
   "outputs": [
    {
     "data": {
      "text/html": [
       "<div>\n",
       "<style scoped>\n",
       "    .dataframe tbody tr th:only-of-type {\n",
       "        vertical-align: middle;\n",
       "    }\n",
       "\n",
       "    .dataframe tbody tr th {\n",
       "        vertical-align: top;\n",
       "    }\n",
       "\n",
       "    .dataframe thead th {\n",
       "        text-align: right;\n",
       "    }\n",
       "</style>\n",
       "<table border=\"1\" class=\"dataframe\">\n",
       "  <thead>\n",
       "    <tr style=\"text-align: right;\">\n",
       "      <th></th>\n",
       "      <th>srcip</th>\n",
       "      <th>sport</th>\n",
       "      <th>dstip</th>\n",
       "      <th>dsport</th>\n",
       "      <th>proto</th>\n",
       "      <th>state</th>\n",
       "      <th>dur</th>\n",
       "      <th>sbytes</th>\n",
       "      <th>dbytes</th>\n",
       "      <th>sttl</th>\n",
       "      <th>dttl</th>\n",
       "      <th>sloss</th>\n",
       "      <th>dloss</th>\n",
       "      <th>service</th>\n",
       "      <th>Sload</th>\n",
       "      <th>Dload</th>\n",
       "      <th>Spkts</th>\n",
       "      <th>Dpkts</th>\n",
       "      <th>swin</th>\n",
       "      <th>dwin</th>\n",
       "      <th>stcpb</th>\n",
       "      <th>dtcpb</th>\n",
       "      <th>smeansz</th>\n",
       "      <th>dmeansz</th>\n",
       "      <th>trans_depth</th>\n",
       "      <th>res_bdy_len</th>\n",
       "      <th>Sjit</th>\n",
       "      <th>Djit</th>\n",
       "      <th>Stime</th>\n",
       "      <th>Ltime</th>\n",
       "      <th>Sintpkt</th>\n",
       "      <th>Dintpkt</th>\n",
       "      <th>tcprtt</th>\n",
       "      <th>synack</th>\n",
       "      <th>ackdat</th>\n",
       "      <th>is_sm_ips_ports</th>\n",
       "      <th>ct_state_ttl</th>\n",
       "      <th>ct_flw_http_mthd</th>\n",
       "      <th>is_ftp_login</th>\n",
       "      <th>ct_ftp_cmd</th>\n",
       "      <th>ct_srv_src</th>\n",
       "      <th>ct_srv_dst</th>\n",
       "      <th>ct_dst_ltm</th>\n",
       "      <th>ct_src_ltm</th>\n",
       "      <th>ct_src_dport_ltm</th>\n",
       "      <th>ct_dst_sport_ltm</th>\n",
       "      <th>ct_dst_src_ltm</th>\n",
       "      <th>attack_cat</th>\n",
       "      <th>Label</th>\n",
       "    </tr>\n",
       "  </thead>\n",
       "  <tbody>\n",
       "    <tr>\n",
       "      <th>0</th>\n",
       "      <td>59.166.0.7</td>\n",
       "      <td>50734</td>\n",
       "      <td>149.171.126.3</td>\n",
       "      <td>57446</td>\n",
       "      <td>tcp</td>\n",
       "      <td>FIN</td>\n",
       "      <td>0.047865</td>\n",
       "      <td>4238</td>\n",
       "      <td>62736</td>\n",
       "      <td>31</td>\n",
       "      <td>29</td>\n",
       "      <td>7</td>\n",
       "      <td>30</td>\n",
       "      <td>-</td>\n",
       "      <td>698631.56250</td>\n",
       "      <td>1.033991e+07</td>\n",
       "      <td>72</td>\n",
       "      <td>72</td>\n",
       "      <td>255</td>\n",
       "      <td>255</td>\n",
       "      <td>1702718733</td>\n",
       "      <td>1703015697</td>\n",
       "      <td>59</td>\n",
       "      <td>871</td>\n",
       "      <td>0</td>\n",
       "      <td>0</td>\n",
       "      <td>35.660223</td>\n",
       "      <td>36.416611</td>\n",
       "      <td>1424249043</td>\n",
       "      <td>1424249043</td>\n",
       "      <td>0.669859</td>\n",
       "      <td>0.665648</td>\n",
       "      <td>0.000702</td>\n",
       "      <td>0.000595</td>\n",
       "      <td>0.000107</td>\n",
       "      <td>0</td>\n",
       "      <td>0</td>\n",
       "      <td>NaN</td>\n",
       "      <td>NaN</td>\n",
       "      <td></td>\n",
       "      <td>5</td>\n",
       "      <td>12</td>\n",
       "      <td>5</td>\n",
       "      <td>2</td>\n",
       "      <td>1</td>\n",
       "      <td>1</td>\n",
       "      <td>1</td>\n",
       "      <td>NaN</td>\n",
       "      <td>0</td>\n",
       "    </tr>\n",
       "    <tr>\n",
       "      <th>1</th>\n",
       "      <td>59.166.0.6</td>\n",
       "      <td>10770</td>\n",
       "      <td>149.171.126.7</td>\n",
       "      <td>53</td>\n",
       "      <td>udp</td>\n",
       "      <td>CON</td>\n",
       "      <td>0.001083</td>\n",
       "      <td>146</td>\n",
       "      <td>178</td>\n",
       "      <td>31</td>\n",
       "      <td>29</td>\n",
       "      <td>0</td>\n",
       "      <td>0</td>\n",
       "      <td>dns</td>\n",
       "      <td>539242.87500</td>\n",
       "      <td>6.574331e+05</td>\n",
       "      <td>2</td>\n",
       "      <td>2</td>\n",
       "      <td>0</td>\n",
       "      <td>0</td>\n",
       "      <td>0</td>\n",
       "      <td>0</td>\n",
       "      <td>73</td>\n",
       "      <td>89</td>\n",
       "      <td>0</td>\n",
       "      <td>0</td>\n",
       "      <td>0.000000</td>\n",
       "      <td>0.000000</td>\n",
       "      <td>1421971268</td>\n",
       "      <td>1421971268</td>\n",
       "      <td>0.005000</td>\n",
       "      <td>0.009000</td>\n",
       "      <td>0.000000</td>\n",
       "      <td>0.000000</td>\n",
       "      <td>0.000000</td>\n",
       "      <td>0</td>\n",
       "      <td>0</td>\n",
       "      <td>0.0</td>\n",
       "      <td>0.0</td>\n",
       "      <td>0</td>\n",
       "      <td>2</td>\n",
       "      <td>2</td>\n",
       "      <td>1</td>\n",
       "      <td>2</td>\n",
       "      <td>1</td>\n",
       "      <td>1</td>\n",
       "      <td>1</td>\n",
       "      <td>NaN</td>\n",
       "      <td>0</td>\n",
       "    </tr>\n",
       "    <tr>\n",
       "      <th>2</th>\n",
       "      <td>59.166.0.0</td>\n",
       "      <td>54842</td>\n",
       "      <td>149.171.126.5</td>\n",
       "      <td>61506</td>\n",
       "      <td>udp</td>\n",
       "      <td>CON</td>\n",
       "      <td>0.035015</td>\n",
       "      <td>512</td>\n",
       "      <td>304</td>\n",
       "      <td>31</td>\n",
       "      <td>29</td>\n",
       "      <td>0</td>\n",
       "      <td>0</td>\n",
       "      <td>-</td>\n",
       "      <td>87733.83594</td>\n",
       "      <td>5.209196e+04</td>\n",
       "      <td>4</td>\n",
       "      <td>4</td>\n",
       "      <td>0</td>\n",
       "      <td>0</td>\n",
       "      <td>0</td>\n",
       "      <td>0</td>\n",
       "      <td>128</td>\n",
       "      <td>76</td>\n",
       "      <td>0</td>\n",
       "      <td>0</td>\n",
       "      <td>9.391557</td>\n",
       "      <td>10.315981</td>\n",
       "      <td>1424223879</td>\n",
       "      <td>1424223879</td>\n",
       "      <td>6.647333</td>\n",
       "      <td>7.301000</td>\n",
       "      <td>0.000000</td>\n",
       "      <td>0.000000</td>\n",
       "      <td>0.000000</td>\n",
       "      <td>0</td>\n",
       "      <td>0</td>\n",
       "      <td>NaN</td>\n",
       "      <td>NaN</td>\n",
       "      <td></td>\n",
       "      <td>14</td>\n",
       "      <td>5</td>\n",
       "      <td>4</td>\n",
       "      <td>13</td>\n",
       "      <td>1</td>\n",
       "      <td>1</td>\n",
       "      <td>3</td>\n",
       "      <td>NaN</td>\n",
       "      <td>0</td>\n",
       "    </tr>\n",
       "    <tr>\n",
       "      <th>3</th>\n",
       "      <td>59.166.0.3</td>\n",
       "      <td>36902</td>\n",
       "      <td>149.171.126.3</td>\n",
       "      <td>15572</td>\n",
       "      <td>tcp</td>\n",
       "      <td>FIN</td>\n",
       "      <td>0.123972</td>\n",
       "      <td>2230</td>\n",
       "      <td>12340</td>\n",
       "      <td>31</td>\n",
       "      <td>29</td>\n",
       "      <td>7</td>\n",
       "      <td>10</td>\n",
       "      <td>-</td>\n",
       "      <td>139708.96880</td>\n",
       "      <td>7.729488e+05</td>\n",
       "      <td>34</td>\n",
       "      <td>34</td>\n",
       "      <td>255</td>\n",
       "      <td>255</td>\n",
       "      <td>2834902917</td>\n",
       "      <td>685617961</td>\n",
       "      <td>66</td>\n",
       "      <td>363</td>\n",
       "      <td>0</td>\n",
       "      <td>0</td>\n",
       "      <td>208.780971</td>\n",
       "      <td>5.159567</td>\n",
       "      <td>1424255630</td>\n",
       "      <td>1424255630</td>\n",
       "      <td>3.747364</td>\n",
       "      <td>3.740364</td>\n",
       "      <td>0.000651</td>\n",
       "      <td>0.000532</td>\n",
       "      <td>0.000119</td>\n",
       "      <td>0</td>\n",
       "      <td>0</td>\n",
       "      <td>NaN</td>\n",
       "      <td>NaN</td>\n",
       "      <td></td>\n",
       "      <td>7</td>\n",
       "      <td>7</td>\n",
       "      <td>6</td>\n",
       "      <td>1</td>\n",
       "      <td>1</td>\n",
       "      <td>1</td>\n",
       "      <td>1</td>\n",
       "      <td>NaN</td>\n",
       "      <td>0</td>\n",
       "    </tr>\n",
       "    <tr>\n",
       "      <th>4</th>\n",
       "      <td>59.166.0.4</td>\n",
       "      <td>63077</td>\n",
       "      <td>149.171.126.1</td>\n",
       "      <td>17051</td>\n",
       "      <td>tcp</td>\n",
       "      <td>FIN</td>\n",
       "      <td>0.039436</td>\n",
       "      <td>2438</td>\n",
       "      <td>19242</td>\n",
       "      <td>31</td>\n",
       "      <td>29</td>\n",
       "      <td>7</td>\n",
       "      <td>13</td>\n",
       "      <td>-</td>\n",
       "      <td>481590.40630</td>\n",
       "      <td>3.805862e+06</td>\n",
       "      <td>38</td>\n",
       "      <td>40</td>\n",
       "      <td>255</td>\n",
       "      <td>255</td>\n",
       "      <td>1061864393</td>\n",
       "      <td>1088661073</td>\n",
       "      <td>64</td>\n",
       "      <td>481</td>\n",
       "      <td>0</td>\n",
       "      <td>0</td>\n",
       "      <td>76.609689</td>\n",
       "      <td>75.435670</td>\n",
       "      <td>1424237363</td>\n",
       "      <td>1424237363</td>\n",
       "      <td>1.056135</td>\n",
       "      <td>0.997949</td>\n",
       "      <td>0.000625</td>\n",
       "      <td>0.000513</td>\n",
       "      <td>0.000112</td>\n",
       "      <td>0</td>\n",
       "      <td>0</td>\n",
       "      <td>NaN</td>\n",
       "      <td>NaN</td>\n",
       "      <td></td>\n",
       "      <td>5</td>\n",
       "      <td>5</td>\n",
       "      <td>2</td>\n",
       "      <td>3</td>\n",
       "      <td>1</td>\n",
       "      <td>1</td>\n",
       "      <td>1</td>\n",
       "      <td>NaN</td>\n",
       "      <td>0</td>\n",
       "    </tr>\n",
       "  </tbody>\n",
       "</table>\n",
       "</div>"
      ],
      "text/plain": [
       "        srcip  sport          dstip dsport proto state       dur  sbytes  \\\n",
       "0  59.166.0.7  50734  149.171.126.3  57446   tcp   FIN  0.047865    4238   \n",
       "1  59.166.0.6  10770  149.171.126.7     53   udp   CON  0.001083     146   \n",
       "2  59.166.0.0  54842  149.171.126.5  61506   udp   CON  0.035015     512   \n",
       "3  59.166.0.3  36902  149.171.126.3  15572   tcp   FIN  0.123972    2230   \n",
       "4  59.166.0.4  63077  149.171.126.1  17051   tcp   FIN  0.039436    2438   \n",
       "\n",
       "   dbytes  sttl  dttl  sloss  dloss service         Sload         Dload  \\\n",
       "0   62736    31    29      7     30       -  698631.56250  1.033991e+07   \n",
       "1     178    31    29      0      0     dns  539242.87500  6.574331e+05   \n",
       "2     304    31    29      0      0       -   87733.83594  5.209196e+04   \n",
       "3   12340    31    29      7     10       -  139708.96880  7.729488e+05   \n",
       "4   19242    31    29      7     13       -  481590.40630  3.805862e+06   \n",
       "\n",
       "   Spkts  Dpkts  swin  dwin       stcpb       dtcpb  smeansz  dmeansz  \\\n",
       "0     72     72   255   255  1702718733  1703015697       59      871   \n",
       "1      2      2     0     0           0           0       73       89   \n",
       "2      4      4     0     0           0           0      128       76   \n",
       "3     34     34   255   255  2834902917   685617961       66      363   \n",
       "4     38     40   255   255  1061864393  1088661073       64      481   \n",
       "\n",
       "   trans_depth  res_bdy_len        Sjit       Djit       Stime       Ltime  \\\n",
       "0            0            0   35.660223  36.416611  1424249043  1424249043   \n",
       "1            0            0    0.000000   0.000000  1421971268  1421971268   \n",
       "2            0            0    9.391557  10.315981  1424223879  1424223879   \n",
       "3            0            0  208.780971   5.159567  1424255630  1424255630   \n",
       "4            0            0   76.609689  75.435670  1424237363  1424237363   \n",
       "\n",
       "    Sintpkt   Dintpkt    tcprtt    synack    ackdat  is_sm_ips_ports  \\\n",
       "0  0.669859  0.665648  0.000702  0.000595  0.000107                0   \n",
       "1  0.005000  0.009000  0.000000  0.000000  0.000000                0   \n",
       "2  6.647333  7.301000  0.000000  0.000000  0.000000                0   \n",
       "3  3.747364  3.740364  0.000651  0.000532  0.000119                0   \n",
       "4  1.056135  0.997949  0.000625  0.000513  0.000112                0   \n",
       "\n",
       "   ct_state_ttl  ct_flw_http_mthd  is_ftp_login ct_ftp_cmd  ct_srv_src  \\\n",
       "0             0               NaN           NaN                      5   \n",
       "1             0               0.0           0.0          0           2   \n",
       "2             0               NaN           NaN                     14   \n",
       "3             0               NaN           NaN                      7   \n",
       "4             0               NaN           NaN                      5   \n",
       "\n",
       "   ct_srv_dst  ct_dst_ltm  ct_src_ltm  ct_src_dport_ltm  ct_dst_sport_ltm  \\\n",
       "0          12           5           2                 1                 1   \n",
       "1           2           1           2                 1                 1   \n",
       "2           5           4          13                 1                 1   \n",
       "3           7           6           1                 1                 1   \n",
       "4           5           2           3                 1                 1   \n",
       "\n",
       "   ct_dst_src_ltm attack_cat  Label  \n",
       "0               1        NaN      0  \n",
       "1               1        NaN      0  \n",
       "2               3        NaN      0  \n",
       "3               1        NaN      0  \n",
       "4               1        NaN      0  "
      ]
     },
     "execution_count": 17,
     "metadata": {
      "tags": []
     },
     "output_type": "execute_result"
    }
   ],
   "source": [
    "test.head()"
   ]
  },
  {
   "cell_type": "markdown",
   "metadata": {
    "colab_type": "text",
    "id": "3kRfNlgd_Rrj"
   },
   "source": [
    "### Loading the model and scaler"
   ]
  },
  {
   "cell_type": "code",
   "execution_count": 0,
   "metadata": {
    "colab": {
     "base_uri": "https://localhost:8080/",
     "height": 306
    },
    "colab_type": "code",
    "executionInfo": {
     "elapsed": 2141,
     "status": "ok",
     "timestamp": 1554643955278,
     "user": {
      "displayName": "Jozef Valko",
      "photoUrl": "https://lh4.googleusercontent.com/-rJdYS_jqK20/AAAAAAAAAAI/AAAAAAAAJ_I/XVZBkrJc6LU/s64/photo.jpg",
      "userId": "10599775509760039875"
     },
     "user_tz": -120
    },
    "id": "gojL4oanXF4D",
    "outputId": "9e8ca96c-d533-468b-a281-91cbae8776e0"
   },
   "outputs": [
    {
     "name": "stdout",
     "output_type": "stream",
     "text": [
      "_________________________________________________________________\n",
      "Layer (type)                 Output Shape              Param #   \n",
      "=================================================================\n",
      "dense_7 (Dense)              (None, 32)                544       \n",
      "_________________________________________________________________\n",
      "dropout_5 (Dropout)          (None, 32)                0         \n",
      "_________________________________________________________________\n",
      "dense_8 (Dense)              (None, 16)                528       \n",
      "_________________________________________________________________\n",
      "dropout_6 (Dropout)          (None, 16)                0         \n",
      "_________________________________________________________________\n",
      "dense_9 (Dense)              (None, 1)                 17        \n",
      "=================================================================\n",
      "Total params: 1,089\n",
      "Trainable params: 1,089\n",
      "Non-trainable params: 0\n",
      "_________________________________________________________________\n"
     ]
    }
   ],
   "source": [
    "model = load_model('/content/drive/My Drive/FIIT STU/Ing/4. semester/Diplomový projekt 3/trained_models/DNN_model_all_binary_full.h5')\n",
    "scaler = joblib.load('/content/drive/My Drive/FIIT STU/Ing/4. semester/Diplomový projekt 3/trained_models/DNN_model_all_binary_full_scaler.sav')"
   ]
  },
  {
   "cell_type": "code",
   "execution_count": 0,
   "metadata": {
    "colab": {
     "base_uri": "https://localhost:8080/",
     "height": 306
    },
    "colab_type": "code",
    "executionInfo": {
     "elapsed": 861,
     "status": "ok",
     "timestamp": 1554650473792,
     "user": {
      "displayName": "Jozef Valko",
      "photoUrl": "https://lh4.googleusercontent.com/-rJdYS_jqK20/AAAAAAAAAAI/AAAAAAAAJ_I/XVZBkrJc6LU/s64/photo.jpg",
      "userId": "10599775509760039875"
     },
     "user_tz": -120
    },
    "id": "PJgbBxW7Y5jb",
    "outputId": "f2f5ed1d-c952-4c64-c112-c671945113bd"
   },
   "outputs": [
    {
     "name": "stdout",
     "output_type": "stream",
     "text": [
      "_________________________________________________________________\n",
      "Layer (type)                 Output Shape              Param #   \n",
      "=================================================================\n",
      "dense_16 (Dense)             (None, 32)                448       \n",
      "_________________________________________________________________\n",
      "dropout_11 (Dropout)         (None, 32)                0         \n",
      "_________________________________________________________________\n",
      "dense_17 (Dense)             (None, 16)                528       \n",
      "_________________________________________________________________\n",
      "dropout_12 (Dropout)         (None, 16)                0         \n",
      "_________________________________________________________________\n",
      "dense_18 (Dense)             (None, 1)                 17        \n",
      "=================================================================\n",
      "Total params: 993\n",
      "Trainable params: 993\n",
      "Non-trainable params: 0\n",
      "_________________________________________________________________\n"
     ]
    }
   ],
   "source": [
    "model.summary()"
   ]
  },
  {
   "cell_type": "markdown",
   "metadata": {
    "colab_type": "text",
    "id": "YqSs-iwEAECt"
   },
   "source": [
    "### Selecting the columns and perform one-hot-encoding on protos"
   ]
  },
  {
   "cell_type": "code",
   "execution_count": 0,
   "metadata": {
    "colab": {},
    "colab_type": "code",
    "id": "A4lBBSV5AQK7"
   },
   "outputs": [],
   "source": [
    "columns = test[['Spkts','Dpkts','sbytes','dbytes','ct_srv_dst','ct_dst_ltm','Label']]\n",
    "#columns = test[['spkts','dpkts','sbytes','dbytes','ct_srv_src','ct_srv_dst','ct_dst_ltm','ct_src_ltm','ct_src_dport_ltm','ct_dst_sport_ltm','ct_dst_src_ltm']]\n",
    "protos = test[['proto']]"
   ]
  },
  {
   "cell_type": "code",
   "execution_count": 0,
   "metadata": {
    "colab": {
     "base_uri": "https://localhost:8080/",
     "height": 204
    },
    "colab_type": "code",
    "executionInfo": {
     "elapsed": 65276,
     "status": "ok",
     "timestamp": 1555802570176,
     "user": {
      "displayName": "Jozef Valko",
      "photoUrl": "https://lh4.googleusercontent.com/-rJdYS_jqK20/AAAAAAAAAAI/AAAAAAAAJ_I/XVZBkrJc6LU/s64/photo.jpg",
      "userId": "10599775509760039875"
     },
     "user_tz": -120
    },
    "id": "v8cMrg0VAQK9",
    "outputId": "616dbe49-3d97-46b6-eee0-17031fa403ee"
   },
   "outputs": [
    {
     "data": {
      "text/html": [
       "<div>\n",
       "<style scoped>\n",
       "    .dataframe tbody tr th:only-of-type {\n",
       "        vertical-align: middle;\n",
       "    }\n",
       "\n",
       "    .dataframe tbody tr th {\n",
       "        vertical-align: top;\n",
       "    }\n",
       "\n",
       "    .dataframe thead th {\n",
       "        text-align: right;\n",
       "    }\n",
       "</style>\n",
       "<table border=\"1\" class=\"dataframe\">\n",
       "  <thead>\n",
       "    <tr style=\"text-align: right;\">\n",
       "      <th></th>\n",
       "      <th>Spkts</th>\n",
       "      <th>Dpkts</th>\n",
       "      <th>sbytes</th>\n",
       "      <th>dbytes</th>\n",
       "      <th>ct_srv_dst</th>\n",
       "      <th>ct_dst_ltm</th>\n",
       "      <th>Label</th>\n",
       "    </tr>\n",
       "  </thead>\n",
       "  <tbody>\n",
       "    <tr>\n",
       "      <th>0</th>\n",
       "      <td>72</td>\n",
       "      <td>72</td>\n",
       "      <td>4238</td>\n",
       "      <td>62736</td>\n",
       "      <td>12</td>\n",
       "      <td>5</td>\n",
       "      <td>0</td>\n",
       "    </tr>\n",
       "    <tr>\n",
       "      <th>1</th>\n",
       "      <td>2</td>\n",
       "      <td>2</td>\n",
       "      <td>146</td>\n",
       "      <td>178</td>\n",
       "      <td>2</td>\n",
       "      <td>1</td>\n",
       "      <td>0</td>\n",
       "    </tr>\n",
       "    <tr>\n",
       "      <th>2</th>\n",
       "      <td>4</td>\n",
       "      <td>4</td>\n",
       "      <td>512</td>\n",
       "      <td>304</td>\n",
       "      <td>5</td>\n",
       "      <td>4</td>\n",
       "      <td>0</td>\n",
       "    </tr>\n",
       "    <tr>\n",
       "      <th>3</th>\n",
       "      <td>34</td>\n",
       "      <td>34</td>\n",
       "      <td>2230</td>\n",
       "      <td>12340</td>\n",
       "      <td>7</td>\n",
       "      <td>6</td>\n",
       "      <td>0</td>\n",
       "    </tr>\n",
       "    <tr>\n",
       "      <th>4</th>\n",
       "      <td>38</td>\n",
       "      <td>40</td>\n",
       "      <td>2438</td>\n",
       "      <td>19242</td>\n",
       "      <td>5</td>\n",
       "      <td>2</td>\n",
       "      <td>0</td>\n",
       "    </tr>\n",
       "  </tbody>\n",
       "</table>\n",
       "</div>"
      ],
      "text/plain": [
       "   Spkts  Dpkts  sbytes  dbytes  ct_srv_dst  ct_dst_ltm  Label\n",
       "0     72     72    4238   62736          12           5      0\n",
       "1      2      2     146     178           2           1      0\n",
       "2      4      4     512     304           5           4      0\n",
       "3     34     34    2230   12340           7           6      0\n",
       "4     38     40    2438   19242           5           2      0"
      ]
     },
     "execution_count": 16,
     "metadata": {
      "tags": []
     },
     "output_type": "execute_result"
    }
   ],
   "source": [
    "columns.head()"
   ]
  },
  {
   "cell_type": "code",
   "execution_count": 0,
   "metadata": {
    "colab": {
     "base_uri": "https://localhost:8080/",
     "height": 173
    },
    "colab_type": "code",
    "executionInfo": {
     "elapsed": 65781,
     "status": "ok",
     "timestamp": 1555802570725,
     "user": {
      "displayName": "Jozef Valko",
      "photoUrl": "https://lh4.googleusercontent.com/-rJdYS_jqK20/AAAAAAAAAAI/AAAAAAAAJ_I/XVZBkrJc6LU/s64/photo.jpg",
      "userId": "10599775509760039875"
     },
     "user_tz": -120
    },
    "id": "_jE7JY3BAQLB",
    "outputId": "126c2b62-2a84-4201-d680-b090a00ac1d1"
   },
   "outputs": [
    {
     "data": {
      "text/html": [
       "<div>\n",
       "<style scoped>\n",
       "    .dataframe tbody tr th:only-of-type {\n",
       "        vertical-align: middle;\n",
       "    }\n",
       "\n",
       "    .dataframe tbody tr th {\n",
       "        vertical-align: top;\n",
       "    }\n",
       "\n",
       "    .dataframe thead th {\n",
       "        text-align: right;\n",
       "    }\n",
       "</style>\n",
       "<table border=\"1\" class=\"dataframe\">\n",
       "  <thead>\n",
       "    <tr style=\"text-align: right;\">\n",
       "      <th></th>\n",
       "      <th>proto</th>\n",
       "    </tr>\n",
       "  </thead>\n",
       "  <tbody>\n",
       "    <tr>\n",
       "      <th>count</th>\n",
       "      <td>508010</td>\n",
       "    </tr>\n",
       "    <tr>\n",
       "      <th>unique</th>\n",
       "      <td>7</td>\n",
       "    </tr>\n",
       "    <tr>\n",
       "      <th>top</th>\n",
       "      <td>tcp</td>\n",
       "    </tr>\n",
       "    <tr>\n",
       "      <th>freq</th>\n",
       "      <td>298819</td>\n",
       "    </tr>\n",
       "  </tbody>\n",
       "</table>\n",
       "</div>"
      ],
      "text/plain": [
       "         proto\n",
       "count   508010\n",
       "unique       7\n",
       "top        tcp\n",
       "freq    298819"
      ]
     },
     "execution_count": 17,
     "metadata": {
      "tags": []
     },
     "output_type": "execute_result"
    }
   ],
   "source": [
    "regex = r'^(?!(\\btcp\\b|\\budp\\b|\\barp\\b|\\bospf\\b|\\bicmp\\b|\\bigmp\\b)).*$'\n",
    "protos = protos.replace(to_replace=regex, value='other', regex=True)\n",
    "protos.describe()"
   ]
  },
  {
   "cell_type": "code",
   "execution_count": 0,
   "metadata": {
    "colab": {
     "base_uri": "https://localhost:8080/",
     "height": 224
    },
    "colab_type": "code",
    "executionInfo": {
     "elapsed": 65765,
     "status": "ok",
     "timestamp": 1555802570727,
     "user": {
      "displayName": "Jozef Valko",
      "photoUrl": "https://lh4.googleusercontent.com/-rJdYS_jqK20/AAAAAAAAAAI/AAAAAAAAJ_I/XVZBkrJc6LU/s64/photo.jpg",
      "userId": "10599775509760039875"
     },
     "user_tz": -120
    },
    "id": "5KpfC48HAQLF",
    "outputId": "d271ae3d-4369-4a8d-a993-5ea2a3c9cd5c"
   },
   "outputs": [
    {
     "data": {
      "text/html": [
       "<div>\n",
       "<style scoped>\n",
       "    .dataframe tbody tr th:only-of-type {\n",
       "        vertical-align: middle;\n",
       "    }\n",
       "\n",
       "    .dataframe tbody tr th {\n",
       "        vertical-align: top;\n",
       "    }\n",
       "\n",
       "    .dataframe thead th {\n",
       "        text-align: right;\n",
       "    }\n",
       "</style>\n",
       "<table border=\"1\" class=\"dataframe\">\n",
       "  <thead>\n",
       "    <tr style=\"text-align: right;\">\n",
       "      <th></th>\n",
       "      <th>Spkts</th>\n",
       "      <th>Dpkts</th>\n",
       "      <th>sbytes</th>\n",
       "      <th>dbytes</th>\n",
       "      <th>ct_srv_dst</th>\n",
       "      <th>ct_dst_ltm</th>\n",
       "      <th>Label</th>\n",
       "      <th>proto_arp</th>\n",
       "      <th>proto_icmp</th>\n",
       "      <th>proto_igmp</th>\n",
       "      <th>proto_ospf</th>\n",
       "      <th>proto_other</th>\n",
       "      <th>proto_tcp</th>\n",
       "      <th>proto_udp</th>\n",
       "    </tr>\n",
       "  </thead>\n",
       "  <tbody>\n",
       "    <tr>\n",
       "      <th>0</th>\n",
       "      <td>72</td>\n",
       "      <td>72</td>\n",
       "      <td>4238</td>\n",
       "      <td>62736</td>\n",
       "      <td>12</td>\n",
       "      <td>5</td>\n",
       "      <td>0</td>\n",
       "      <td>0</td>\n",
       "      <td>0</td>\n",
       "      <td>0</td>\n",
       "      <td>0</td>\n",
       "      <td>0</td>\n",
       "      <td>1</td>\n",
       "      <td>0</td>\n",
       "    </tr>\n",
       "    <tr>\n",
       "      <th>1</th>\n",
       "      <td>2</td>\n",
       "      <td>2</td>\n",
       "      <td>146</td>\n",
       "      <td>178</td>\n",
       "      <td>2</td>\n",
       "      <td>1</td>\n",
       "      <td>0</td>\n",
       "      <td>0</td>\n",
       "      <td>0</td>\n",
       "      <td>0</td>\n",
       "      <td>0</td>\n",
       "      <td>0</td>\n",
       "      <td>0</td>\n",
       "      <td>1</td>\n",
       "    </tr>\n",
       "    <tr>\n",
       "      <th>2</th>\n",
       "      <td>4</td>\n",
       "      <td>4</td>\n",
       "      <td>512</td>\n",
       "      <td>304</td>\n",
       "      <td>5</td>\n",
       "      <td>4</td>\n",
       "      <td>0</td>\n",
       "      <td>0</td>\n",
       "      <td>0</td>\n",
       "      <td>0</td>\n",
       "      <td>0</td>\n",
       "      <td>0</td>\n",
       "      <td>0</td>\n",
       "      <td>1</td>\n",
       "    </tr>\n",
       "    <tr>\n",
       "      <th>3</th>\n",
       "      <td>34</td>\n",
       "      <td>34</td>\n",
       "      <td>2230</td>\n",
       "      <td>12340</td>\n",
       "      <td>7</td>\n",
       "      <td>6</td>\n",
       "      <td>0</td>\n",
       "      <td>0</td>\n",
       "      <td>0</td>\n",
       "      <td>0</td>\n",
       "      <td>0</td>\n",
       "      <td>0</td>\n",
       "      <td>1</td>\n",
       "      <td>0</td>\n",
       "    </tr>\n",
       "    <tr>\n",
       "      <th>4</th>\n",
       "      <td>38</td>\n",
       "      <td>40</td>\n",
       "      <td>2438</td>\n",
       "      <td>19242</td>\n",
       "      <td>5</td>\n",
       "      <td>2</td>\n",
       "      <td>0</td>\n",
       "      <td>0</td>\n",
       "      <td>0</td>\n",
       "      <td>0</td>\n",
       "      <td>0</td>\n",
       "      <td>0</td>\n",
       "      <td>1</td>\n",
       "      <td>0</td>\n",
       "    </tr>\n",
       "  </tbody>\n",
       "</table>\n",
       "</div>"
      ],
      "text/plain": [
       "   Spkts  Dpkts  sbytes  dbytes  ct_srv_dst  ct_dst_ltm  Label  proto_arp  \\\n",
       "0     72     72    4238   62736          12           5      0          0   \n",
       "1      2      2     146     178           2           1      0          0   \n",
       "2      4      4     512     304           5           4      0          0   \n",
       "3     34     34    2230   12340           7           6      0          0   \n",
       "4     38     40    2438   19242           5           2      0          0   \n",
       "\n",
       "   proto_icmp  proto_igmp  proto_ospf  proto_other  proto_tcp  proto_udp  \n",
       "0           0           0           0            0          1          0  \n",
       "1           0           0           0            0          0          1  \n",
       "2           0           0           0            0          0          1  \n",
       "3           0           0           0            0          1          0  \n",
       "4           0           0           0            0          1          0  "
      ]
     },
     "execution_count": 18,
     "metadata": {
      "tags": []
     },
     "output_type": "execute_result"
    }
   ],
   "source": [
    "dummies = pd.get_dummies(protos)\n",
    "samples = pd.concat([columns, dummies], axis=1)\n",
    "samples.head()"
   ]
  },
  {
   "cell_type": "markdown",
   "metadata": {
    "colab_type": "text",
    "id": "OKvhd91wB4HO"
   },
   "source": [
    "### Splitting data to input samples and output labels"
   ]
  },
  {
   "cell_type": "code",
   "execution_count": 0,
   "metadata": {
    "colab": {
     "base_uri": "https://localhost:8080/",
     "height": 68
    },
    "colab_type": "code",
    "executionInfo": {
     "elapsed": 60365,
     "status": "ok",
     "timestamp": 1555802570729,
     "user": {
      "displayName": "Jozef Valko",
      "photoUrl": "https://lh4.googleusercontent.com/-rJdYS_jqK20/AAAAAAAAAAI/AAAAAAAAJ_I/XVZBkrJc6LU/s64/photo.jpg",
      "userId": "10599775509760039875"
     },
     "user_tz": -120
    },
    "id": "Sbc1RPDsB4HP",
    "outputId": "dc1f6146-067b-45e6-d593-b3c65cb31aa1"
   },
   "outputs": [
    {
     "name": "stdout",
     "output_type": "stream",
     "text": [
      "Test set:\n",
      "(508010, 13)\n",
      "(508010, 1)\n"
     ]
    }
   ],
   "source": [
    "test_samples = samples.drop(columns=['Label'])\n",
    "test_labels = samples[['Label']]\n",
    "\n",
    "print 'Test set:'\n",
    "print test_samples.shape\n",
    "print test_labels.shape"
   ]
  },
  {
   "cell_type": "markdown",
   "metadata": {
    "colab_type": "text",
    "id": "aHaXknmcCepi"
   },
   "source": [
    "### Scaling the data"
   ]
  },
  {
   "cell_type": "code",
   "execution_count": 0,
   "metadata": {
    "colab": {
     "base_uri": "https://localhost:8080/",
     "height": 105
    },
    "colab_type": "code",
    "executionInfo": {
     "elapsed": 81601,
     "status": "ok",
     "timestamp": 1555803199636,
     "user": {
      "displayName": "Jozef Valko",
      "photoUrl": "https://lh4.googleusercontent.com/-rJdYS_jqK20/AAAAAAAAAAI/AAAAAAAAJ_I/XVZBkrJc6LU/s64/photo.jpg",
      "userId": "10599775509760039875"
     },
     "user_tz": -120
    },
    "id": "QTDk31ZeCgUD",
    "outputId": "0e34ebff-40e4-46e8-f8ce-0363ccf380f7"
   },
   "outputs": [
    {
     "name": "stdout",
     "output_type": "stream",
     "text": [
      "(508010, 13)\n",
      "(508010, 1)\n"
     ]
    },
    {
     "name": "stderr",
     "output_type": "stream",
     "text": [
      "/usr/local/lib/python2.7/dist-packages/ipykernel_launcher.py:1: DataConversionWarning: Data with input dtype uint8, int64 were all converted to float64 by StandardScaler.\n",
      "  \"\"\"Entry point for launching an IPython kernel.\n"
     ]
    }
   ],
   "source": [
    "scaled_test_samples = scaler.transform(test_samples)\n",
    "scaled_test_labels = np.array(test_labels)\n",
    "print scaled_test_samples.shape\n",
    "print scaled_test_labels.shape"
   ]
  },
  {
   "cell_type": "markdown",
   "metadata": {
    "colab_type": "text",
    "id": "PO9rTyPM_Vn0"
   },
   "source": [
    "### Model evaluation"
   ]
  },
  {
   "cell_type": "code",
   "execution_count": 0,
   "metadata": {
    "colab": {
     "base_uri": "https://localhost:8080/",
     "height": 68
    },
    "colab_type": "code",
    "executionInfo": {
     "elapsed": 85519,
     "status": "ok",
     "timestamp": 1555803208042,
     "user": {
      "displayName": "Jozef Valko",
      "photoUrl": "https://lh4.googleusercontent.com/-rJdYS_jqK20/AAAAAAAAAAI/AAAAAAAAJ_I/XVZBkrJc6LU/s64/photo.jpg",
      "userId": "10599775509760039875"
     },
     "user_tz": -120
    },
    "id": "MdQvCqFCXHuC",
    "outputId": "ba28f4e0-6a87-40a1-da9a-82effe87c586"
   },
   "outputs": [
    {
     "name": "stdout",
     "output_type": "stream",
     "text": [
      "508010/508010 [==============================] - 8s 16us/step\n",
      "loss: 0.045728\n",
      "acc: 98.41%\n"
     ]
    }
   ],
   "source": [
    "scores = model.evaluate(scaled_test_samples, scaled_test_labels)\n",
    "print(\"%s: %f\\n%s: %.2f%%\" % (model.metrics_names[0], scores[0], model.metrics_names[1], scores[1]*100))"
   ]
  },
  {
   "cell_type": "code",
   "execution_count": 0,
   "metadata": {
    "colab": {},
    "colab_type": "code",
    "id": "_MjOgMQAv16H"
   },
   "outputs": [],
   "source": [
    "preds = model.predict_classes(scaled_test_samples)"
   ]
  },
  {
   "cell_type": "code",
   "execution_count": 0,
   "metadata": {
    "colab": {
     "base_uri": "https://localhost:8080/",
     "height": 170
    },
    "colab_type": "code",
    "executionInfo": {
     "elapsed": 88809,
     "status": "ok",
     "timestamp": 1555803213733,
     "user": {
      "displayName": "Jozef Valko",
      "photoUrl": "https://lh4.googleusercontent.com/-rJdYS_jqK20/AAAAAAAAAAI/AAAAAAAAJ_I/XVZBkrJc6LU/s64/photo.jpg",
      "userId": "10599775509760039875"
     },
     "user_tz": -120
    },
    "id": "tgEzsrz72YJX",
    "outputId": "433ed2cc-c388-4a68-ce2e-3afc28687624"
   },
   "outputs": [
    {
     "name": "stdout",
     "output_type": "stream",
     "text": [
      "              precision    recall  f1-score   support\n",
      "\n",
      "      Normal       0.99      0.99      0.99    443753\n",
      "      Attack       0.96      0.91      0.94     64257\n",
      "\n",
      "   micro avg       0.98      0.98      0.98    508010\n",
      "   macro avg       0.97      0.95      0.96    508010\n",
      "weighted avg       0.98      0.98      0.98    508010\n",
      "\n"
     ]
    }
   ],
   "source": [
    "print (classification_report(scaled_test_labels, preds, target_names=['Normal','Attack']))"
   ]
  },
  {
   "cell_type": "code",
   "execution_count": 0,
   "metadata": {
    "colab": {
     "base_uri": "https://localhost:8080/",
     "height": 102
    },
    "colab_type": "code",
    "executionInfo": {
     "elapsed": 88267,
     "status": "ok",
     "timestamp": 1555803214672,
     "user": {
      "displayName": "Jozef Valko",
      "photoUrl": "https://lh4.googleusercontent.com/-rJdYS_jqK20/AAAAAAAAAAI/AAAAAAAAJ_I/XVZBkrJc6LU/s64/photo.jpg",
      "userId": "10599775509760039875"
     },
     "user_tz": -120
    },
    "id": "NGcJw61pzwE1",
    "outputId": "ea08457f-886c-428e-b6a7-ad4f385ecd80"
   },
   "outputs": [
    {
     "name": "stdout",
     "output_type": "stream",
     "text": [
      "Accuracy is 98.41%\n",
      "Recall (True positive rate) is 91.47%\n",
      "Specificity (True negative rate) is 99.42%\n",
      "Precision (Positive predictive value) is 95.80%\n",
      "F1-score is 93.59%\n"
     ]
    }
   ],
   "source": [
    "TN, FP, FN, TP = m.confusion_matrix(scaled_test_labels, preds).ravel()\n",
    "try:\n",
    "    spe = float(TN)/float(TN + FP)\n",
    "except:\n",
    "    spe = 0\n",
    "print 'Accuracy is %.2f%%' % (m.accuracy_score(scaled_test_labels, preds)*100)\n",
    "print 'Recall (True positive rate) is %.2f%%' % (m.recall_score(scaled_test_labels, preds)*100)\n",
    "print 'Specificity (True negative rate) is %.2f%%' % (spe*100)\n",
    "print 'Precision (Positive predictive value) is %.2f%%' % (m.precision_score(scaled_test_labels, preds)*100)\n",
    "print 'F1-score is %.2f%%' % (m.f1_score(scaled_test_labels, preds)*100)"
   ]
  }
 ],
 "metadata": {
  "colab": {
   "collapsed_sections": [
    "leycZPmH3zhD",
    "Q6uyQQgpJ1g_",
    "HsAPtycKJrB7",
    "7ncyHkoM-srn",
    "wqrH19YX9ZQn",
    "97jNXbUl3lbz",
    "i34LIAoC-eHJ",
    "wU1wP2mnI_uc",
    "XizNNYNCMvdx",
    "Y-nj1epPEFd-",
    "ZvLEsHJQNY-E",
    "-St_Mgnvakcn",
    "hmD_xFoa-6qn",
    "XC42zmyn_czz",
    "3kRfNlgd_Rrj",
    "YqSs-iwEAECt",
    "OKvhd91wB4HO",
    "aHaXknmcCepi",
    "PO9rTyPM_Vn0"
   ],
   "name": "DP_DNN_UNSW-NB15_all_data.ipynb",
   "provenance": [
    {
     "file_id": "1Zhium70ICFd-EnIYKiTOvjU7wPjvk39w",
     "timestamp": 1556489423922
    },
    {
     "file_id": "1AAWyLpQCckvlLH-JzvNXylHhU9zY62iF",
     "timestamp": 1554542513023
    },
    {
     "file_id": "1lwFttKFQTxac_rRiCkSmLbVxN-NnvGe_",
     "timestamp": 1552241134440
    },
    {
     "file_id": "1ULdWp-dOPHA7USO98PYphqQ2oFtNgWlh",
     "timestamp": 1552240841163
    }
   ],
   "version": "0.3.2"
  },
  "kernelspec": {
   "display_name": "Python 2",
   "language": "python",
   "name": "python2"
  },
  "language_info": {
   "codemirror_mode": {
    "name": "ipython",
    "version": 2
   },
   "file_extension": ".py",
   "mimetype": "text/x-python",
   "name": "python",
   "nbconvert_exporter": "python",
   "pygments_lexer": "ipython2",
   "version": "2.7.15"
  }
 },
 "nbformat": 4,
 "nbformat_minor": 1
}
